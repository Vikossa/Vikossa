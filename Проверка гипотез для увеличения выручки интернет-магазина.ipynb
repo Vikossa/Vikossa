{
 "cells": [
  {
   "cell_type": "markdown",
   "metadata": {},
   "source": [
    "## Описание проекта"
   ]
  },
  {
   "cell_type": "markdown",
   "metadata": {},
   "source": [
    "Необходимо проверить гипотезы относительно увеличения выручки, провести A/B тест и проанализировать результаты для отдела маркетинга крупного интернет-магазина.\n",
    "\n",
    "\n",
    "**Описание данных**\n",
    "\n",
    "\n",
    "Содержание файла для проверки гипотез **datasets/hypothesis.csv**: 1) **Hypothesis** — краткое описание гипотезы; 2) **Reach** — охват пользователей по 10-балльной шкале; 3) **Impact** — влияние на пользователей по 10-балльной шкале; 4) **Confidence** — уверенность в гипотезе по 10-балльной шкале; 5) **Efforts** — затраты ресурсов на проверку гипотезы по 10-балльной шкале. Чем больше значение Efforts, тем дороже проверка гипотезы.\n",
    "\n",
    "\n",
    "Сожержание файлов с результатами A/B тестов:\n",
    "\n",
    "**datasets/orders.csv:** 1) **transactionId** — идентификатор заказа; 2) **visitorId** — идентификатор пользователя, совершившего заказ; 3) **date** — дата, когда был совершён заказ; 4) **revenue** — выручка заказа; 5) **group** — группа A/B-теста, в которую попал заказ.\n",
    "\n",
    "\n",
    "**datasets/visitors.csv:** 1) **date** — дата; 2) **group** — группа A/B-теста; 3) **visitors** — количество пользователей в указанную дату в указанной группе A/B-теста.\n",
    "\n",
    "\n",
    "**Задачи:**\n",
    "<br>1. С помощью фреймворков приоритизировать гипотезы\n",
    "<br>2. Проанализировать A/B-тест:\n",
    "<br>1) Пострить график кумулятивной выручки по группам, сделать выводы и предположения.\n",
    "<br>2) Построить график кумулятивного среднего чека по группам, сделать выводы и предположения.\n",
    "<br>3) Построить график относительного изменения кумулятивного среднего чека группы B к группе A. Сделать выводы и предположения.\n",
    "<br>4) Построить график кумулятивного среднего количества заказов на посетителя по группам. Сделать выводы и предположения.\n",
    "<br>5) Построить график относительного изменения кумулятивного среднего количества заказов на посетителя группы B к группе A. Сделать выводы и предположения.\n",
    "<br>6) Постройте точечный график количества заказов по пользователям. Сделайте выводы и предположения.\n",
    "<br>7) Посчитать 95-й и 99-й перцентили количества заказов на пользователя. Выбрать границу для определения аномальных пользователей.\n",
    "<br>8) Построить точечный график стоимостей заказов. Сделать выводы и предположения.\n",
    "<br>9) Посчитать 95-й и 99-й перцентили стоимости заказов. Выбрать границу для определения аномальных заказов.\n",
    "<br>10) Посчитать статистическую значимость различий в среднем количестве заказов на посетителя между группами по «сырым» данным. Сделать выводы и предположения.\n",
    "<br>11) Посчитать статистическую значимость различий в среднем чеке заказа между группами по «сырым» данным. Сделать выводы и предположения.\n",
    "<br>12) Посчитать статистическую значимость различий в среднем количестве заказов на посетителя между группами по «очищенным» данным. Сделать выводы и предположения.\n",
    "<br>13) Посчитать статистическую значимость различий в среднем чеке заказа между группами по «очищенным» данным. Сделать выводы и предположения.\n",
    "<br>14) Принять решение по результатам теста и объяснить его. Варианты решений:\n",
    "<br>a) Остановить тест, зафиксировать победу одной из групп.\n",
    "<br>b) Остановить тест, зафиксировать отсутствие различий между группами.\n",
    "<br>c) Продолжить тест."
   ]
  },
  {
   "cell_type": "code",
   "execution_count": 1,
   "metadata": {},
   "outputs": [],
   "source": [
    "#необходимые для работы библиотеки \n",
    "import pandas as pd\n",
    "import numpy as np\n",
    "from matplotlib import pyplot as plt\n",
    "import seaborn as sns\n",
    "from scipy import stats as st\n",
    "import math as mth\n",
    "import datetime as dt\n",
    "from pandas.plotting import register_matplotlib_converters\n",
    "\n",
    "\n",
    "\n",
    "# конвертеры, которые позволяют использовать типы pandas в matplotlib  \n",
    "register_matplotlib_converters()"
   ]
  },
  {
   "cell_type": "code",
   "execution_count": 2,
   "metadata": {},
   "outputs": [],
   "source": [
    "#извлечение данных для работы\n",
    "hypothesis = pd.read_csv('/datasets/hypothesis.csv')\n",
    "orders = pd.read_csv('/datasets/orders.csv')\n",
    "visitors = pd.read_csv('/datasets/visitors.csv')"
   ]
  },
  {
   "cell_type": "code",
   "execution_count": 3,
   "metadata": {},
   "outputs": [
    {
     "name": "stdout",
     "output_type": "stream",
     "text": [
      "<class 'pandas.core.frame.DataFrame'>\n",
      "RangeIndex: 9 entries, 0 to 8\n",
      "Data columns (total 5 columns):\n",
      " #   Column      Non-Null Count  Dtype \n",
      "---  ------      --------------  ----- \n",
      " 0   Hypothesis  9 non-null      object\n",
      " 1   Reach       9 non-null      int64 \n",
      " 2   Impact      9 non-null      int64 \n",
      " 3   Confidence  9 non-null      int64 \n",
      " 4   Efforts     9 non-null      int64 \n",
      "dtypes: int64(4), object(1)\n",
      "memory usage: 488.0+ bytes\n"
     ]
    },
    {
     "data": {
      "text/html": [
       "<div>\n",
       "<style scoped>\n",
       "    .dataframe tbody tr th:only-of-type {\n",
       "        vertical-align: middle;\n",
       "    }\n",
       "\n",
       "    .dataframe tbody tr th {\n",
       "        vertical-align: top;\n",
       "    }\n",
       "\n",
       "    .dataframe thead th {\n",
       "        text-align: right;\n",
       "    }\n",
       "</style>\n",
       "<table border=\"1\" class=\"dataframe\">\n",
       "  <thead>\n",
       "    <tr style=\"text-align: right;\">\n",
       "      <th></th>\n",
       "      <th>Hypothesis</th>\n",
       "      <th>Reach</th>\n",
       "      <th>Impact</th>\n",
       "      <th>Confidence</th>\n",
       "      <th>Efforts</th>\n",
       "    </tr>\n",
       "  </thead>\n",
       "  <tbody>\n",
       "    <tr>\n",
       "      <th>0</th>\n",
       "      <td>Добавить два новых канала привлечения трафика,...</td>\n",
       "      <td>3</td>\n",
       "      <td>10</td>\n",
       "      <td>8</td>\n",
       "      <td>6</td>\n",
       "    </tr>\n",
       "    <tr>\n",
       "      <th>1</th>\n",
       "      <td>Запустить собственную службу доставки, что сок...</td>\n",
       "      <td>2</td>\n",
       "      <td>5</td>\n",
       "      <td>4</td>\n",
       "      <td>10</td>\n",
       "    </tr>\n",
       "    <tr>\n",
       "      <th>2</th>\n",
       "      <td>Добавить блоки рекомендаций товаров на сайт ин...</td>\n",
       "      <td>8</td>\n",
       "      <td>3</td>\n",
       "      <td>7</td>\n",
       "      <td>3</td>\n",
       "    </tr>\n",
       "    <tr>\n",
       "      <th>3</th>\n",
       "      <td>Изменить структура категорий, что увеличит кон...</td>\n",
       "      <td>8</td>\n",
       "      <td>3</td>\n",
       "      <td>3</td>\n",
       "      <td>8</td>\n",
       "    </tr>\n",
       "    <tr>\n",
       "      <th>4</th>\n",
       "      <td>Изменить цвет фона главной страницы, чтобы уве...</td>\n",
       "      <td>3</td>\n",
       "      <td>1</td>\n",
       "      <td>1</td>\n",
       "      <td>1</td>\n",
       "    </tr>\n",
       "  </tbody>\n",
       "</table>\n",
       "</div>"
      ],
      "text/plain": [
       "                                          Hypothesis  Reach  Impact  \\\n",
       "0  Добавить два новых канала привлечения трафика,...      3      10   \n",
       "1  Запустить собственную службу доставки, что сок...      2       5   \n",
       "2  Добавить блоки рекомендаций товаров на сайт ин...      8       3   \n",
       "3  Изменить структура категорий, что увеличит кон...      8       3   \n",
       "4  Изменить цвет фона главной страницы, чтобы уве...      3       1   \n",
       "\n",
       "   Confidence  Efforts  \n",
       "0           8        6  \n",
       "1           4       10  \n",
       "2           7        3  \n",
       "3           3        8  \n",
       "4           1        1  "
      ]
     },
     "execution_count": 3,
     "metadata": {},
     "output_type": "execute_result"
    }
   ],
   "source": [
    "#ознакомимся с данными и проведем их очистку, если необходимо в датасете с гипотезами \n",
    "hypothesis.info()\n",
    "hypothesis.head()"
   ]
  },
  {
   "cell_type": "code",
   "execution_count": 4,
   "metadata": {},
   "outputs": [
    {
     "data": {
      "text/html": [
       "<div>\n",
       "<style scoped>\n",
       "    .dataframe tbody tr th:only-of-type {\n",
       "        vertical-align: middle;\n",
       "    }\n",
       "\n",
       "    .dataframe tbody tr th {\n",
       "        vertical-align: top;\n",
       "    }\n",
       "\n",
       "    .dataframe thead th {\n",
       "        text-align: right;\n",
       "    }\n",
       "</style>\n",
       "<table border=\"1\" class=\"dataframe\">\n",
       "  <thead>\n",
       "    <tr style=\"text-align: right;\">\n",
       "      <th></th>\n",
       "      <th>hypothesis</th>\n",
       "      <th>reach</th>\n",
       "      <th>impact</th>\n",
       "      <th>confidence</th>\n",
       "      <th>efforts</th>\n",
       "    </tr>\n",
       "  </thead>\n",
       "  <tbody>\n",
       "    <tr>\n",
       "      <th>0</th>\n",
       "      <td>Добавить два новых канала привлечения трафика,...</td>\n",
       "      <td>3</td>\n",
       "      <td>10</td>\n",
       "      <td>8</td>\n",
       "      <td>6</td>\n",
       "    </tr>\n",
       "    <tr>\n",
       "      <th>1</th>\n",
       "      <td>Запустить собственную службу доставки, что сок...</td>\n",
       "      <td>2</td>\n",
       "      <td>5</td>\n",
       "      <td>4</td>\n",
       "      <td>10</td>\n",
       "    </tr>\n",
       "    <tr>\n",
       "      <th>2</th>\n",
       "      <td>Добавить блоки рекомендаций товаров на сайт ин...</td>\n",
       "      <td>8</td>\n",
       "      <td>3</td>\n",
       "      <td>7</td>\n",
       "      <td>3</td>\n",
       "    </tr>\n",
       "    <tr>\n",
       "      <th>3</th>\n",
       "      <td>Изменить структура категорий, что увеличит кон...</td>\n",
       "      <td>8</td>\n",
       "      <td>3</td>\n",
       "      <td>3</td>\n",
       "      <td>8</td>\n",
       "    </tr>\n",
       "    <tr>\n",
       "      <th>4</th>\n",
       "      <td>Изменить цвет фона главной страницы, чтобы уве...</td>\n",
       "      <td>3</td>\n",
       "      <td>1</td>\n",
       "      <td>1</td>\n",
       "      <td>1</td>\n",
       "    </tr>\n",
       "  </tbody>\n",
       "</table>\n",
       "</div>"
      ],
      "text/plain": [
       "                                          hypothesis  reach  impact  \\\n",
       "0  Добавить два новых канала привлечения трафика,...      3      10   \n",
       "1  Запустить собственную службу доставки, что сок...      2       5   \n",
       "2  Добавить блоки рекомендаций товаров на сайт ин...      8       3   \n",
       "3  Изменить структура категорий, что увеличит кон...      8       3   \n",
       "4  Изменить цвет фона главной страницы, чтобы уве...      3       1   \n",
       "\n",
       "   confidence  efforts  \n",
       "0           8        6  \n",
       "1           4       10  \n",
       "2           7        3  \n",
       "3           3        8  \n",
       "4           1        1  "
      ]
     },
     "execution_count": 4,
     "metadata": {},
     "output_type": "execute_result"
    }
   ],
   "source": [
    "#изменим регистр в наименовании столбцов для удобства работы с ними\n",
    "hypothesis.columns = map(str.lower, hypothesis.columns)\n",
    "hypothesis.head()"
   ]
  },
  {
   "cell_type": "code",
   "execution_count": 5,
   "metadata": {},
   "outputs": [
    {
     "name": "stdout",
     "output_type": "stream",
     "text": [
      "Количество дубликатов - 0\n",
      "Количество пропусков - hypothesis    0\n",
      "reach         0\n",
      "impact        0\n",
      "confidence    0\n",
      "efforts       0\n",
      "dtype: int64\n"
     ]
    }
   ],
   "source": [
    "#проверка на пропуски и дубликаты\n",
    "print('Количество дубликатов -', hypothesis.duplicated().sum())\n",
    "print('Количество пропусков -', hypothesis.isna().sum())"
   ]
  },
  {
   "cell_type": "markdown",
   "metadata": {},
   "source": [
    "С этим датасетом все в порядке, можем работать."
   ]
  },
  {
   "cell_type": "code",
   "execution_count": 6,
   "metadata": {},
   "outputs": [
    {
     "name": "stdout",
     "output_type": "stream",
     "text": [
      "<class 'pandas.core.frame.DataFrame'>\n",
      "RangeIndex: 1197 entries, 0 to 1196\n",
      "Data columns (total 5 columns):\n",
      " #   Column         Non-Null Count  Dtype \n",
      "---  ------         --------------  ----- \n",
      " 0   transactionId  1197 non-null   int64 \n",
      " 1   visitorId      1197 non-null   int64 \n",
      " 2   date           1197 non-null   object\n",
      " 3   revenue        1197 non-null   int64 \n",
      " 4   group          1197 non-null   object\n",
      "dtypes: int64(3), object(2)\n",
      "memory usage: 46.9+ KB\n"
     ]
    },
    {
     "data": {
      "text/html": [
       "<div>\n",
       "<style scoped>\n",
       "    .dataframe tbody tr th:only-of-type {\n",
       "        vertical-align: middle;\n",
       "    }\n",
       "\n",
       "    .dataframe tbody tr th {\n",
       "        vertical-align: top;\n",
       "    }\n",
       "\n",
       "    .dataframe thead th {\n",
       "        text-align: right;\n",
       "    }\n",
       "</style>\n",
       "<table border=\"1\" class=\"dataframe\">\n",
       "  <thead>\n",
       "    <tr style=\"text-align: right;\">\n",
       "      <th></th>\n",
       "      <th>transactionId</th>\n",
       "      <th>visitorId</th>\n",
       "      <th>date</th>\n",
       "      <th>revenue</th>\n",
       "      <th>group</th>\n",
       "    </tr>\n",
       "  </thead>\n",
       "  <tbody>\n",
       "    <tr>\n",
       "      <th>0</th>\n",
       "      <td>3667963787</td>\n",
       "      <td>3312258926</td>\n",
       "      <td>2019-08-15</td>\n",
       "      <td>1650</td>\n",
       "      <td>B</td>\n",
       "    </tr>\n",
       "    <tr>\n",
       "      <th>1</th>\n",
       "      <td>2804400009</td>\n",
       "      <td>3642806036</td>\n",
       "      <td>2019-08-15</td>\n",
       "      <td>730</td>\n",
       "      <td>B</td>\n",
       "    </tr>\n",
       "    <tr>\n",
       "      <th>2</th>\n",
       "      <td>2961555356</td>\n",
       "      <td>4069496402</td>\n",
       "      <td>2019-08-15</td>\n",
       "      <td>400</td>\n",
       "      <td>A</td>\n",
       "    </tr>\n",
       "    <tr>\n",
       "      <th>3</th>\n",
       "      <td>3797467345</td>\n",
       "      <td>1196621759</td>\n",
       "      <td>2019-08-15</td>\n",
       "      <td>9759</td>\n",
       "      <td>B</td>\n",
       "    </tr>\n",
       "    <tr>\n",
       "      <th>4</th>\n",
       "      <td>2282983706</td>\n",
       "      <td>2322279887</td>\n",
       "      <td>2019-08-15</td>\n",
       "      <td>2308</td>\n",
       "      <td>B</td>\n",
       "    </tr>\n",
       "  </tbody>\n",
       "</table>\n",
       "</div>"
      ],
      "text/plain": [
       "   transactionId   visitorId        date  revenue group\n",
       "0     3667963787  3312258926  2019-08-15     1650     B\n",
       "1     2804400009  3642806036  2019-08-15      730     B\n",
       "2     2961555356  4069496402  2019-08-15      400     A\n",
       "3     3797467345  1196621759  2019-08-15     9759     B\n",
       "4     2282983706  2322279887  2019-08-15     2308     B"
      ]
     },
     "execution_count": 6,
     "metadata": {},
     "output_type": "execute_result"
    }
   ],
   "source": [
    "#ознакомимся с данными и проведем их очистку, если необходимо в датасете с заказами\n",
    "orders.info()\n",
    "orders.head()"
   ]
  },
  {
   "cell_type": "code",
   "execution_count": 7,
   "metadata": {},
   "outputs": [
    {
     "name": "stdout",
     "output_type": "stream",
     "text": [
      "<class 'pandas.core.frame.DataFrame'>\n",
      "RangeIndex: 1197 entries, 0 to 1196\n",
      "Data columns (total 5 columns):\n",
      " #   Column         Non-Null Count  Dtype         \n",
      "---  ------         --------------  -----         \n",
      " 0   transactionId  1197 non-null   int64         \n",
      " 1   visitorId      1197 non-null   int64         \n",
      " 2   date           1197 non-null   datetime64[ns]\n",
      " 3   revenue        1197 non-null   int64         \n",
      " 4   group          1197 non-null   object        \n",
      "dtypes: datetime64[ns](1), int64(3), object(1)\n",
      "memory usage: 46.9+ KB\n"
     ]
    },
    {
     "data": {
      "text/html": [
       "<div>\n",
       "<style scoped>\n",
       "    .dataframe tbody tr th:only-of-type {\n",
       "        vertical-align: middle;\n",
       "    }\n",
       "\n",
       "    .dataframe tbody tr th {\n",
       "        vertical-align: top;\n",
       "    }\n",
       "\n",
       "    .dataframe thead th {\n",
       "        text-align: right;\n",
       "    }\n",
       "</style>\n",
       "<table border=\"1\" class=\"dataframe\">\n",
       "  <thead>\n",
       "    <tr style=\"text-align: right;\">\n",
       "      <th></th>\n",
       "      <th>transactionId</th>\n",
       "      <th>visitorId</th>\n",
       "      <th>date</th>\n",
       "      <th>revenue</th>\n",
       "      <th>group</th>\n",
       "    </tr>\n",
       "  </thead>\n",
       "  <tbody>\n",
       "    <tr>\n",
       "      <th>0</th>\n",
       "      <td>3667963787</td>\n",
       "      <td>3312258926</td>\n",
       "      <td>2019-08-15</td>\n",
       "      <td>1650</td>\n",
       "      <td>B</td>\n",
       "    </tr>\n",
       "    <tr>\n",
       "      <th>1</th>\n",
       "      <td>2804400009</td>\n",
       "      <td>3642806036</td>\n",
       "      <td>2019-08-15</td>\n",
       "      <td>730</td>\n",
       "      <td>B</td>\n",
       "    </tr>\n",
       "    <tr>\n",
       "      <th>2</th>\n",
       "      <td>2961555356</td>\n",
       "      <td>4069496402</td>\n",
       "      <td>2019-08-15</td>\n",
       "      <td>400</td>\n",
       "      <td>A</td>\n",
       "    </tr>\n",
       "    <tr>\n",
       "      <th>3</th>\n",
       "      <td>3797467345</td>\n",
       "      <td>1196621759</td>\n",
       "      <td>2019-08-15</td>\n",
       "      <td>9759</td>\n",
       "      <td>B</td>\n",
       "    </tr>\n",
       "    <tr>\n",
       "      <th>4</th>\n",
       "      <td>2282983706</td>\n",
       "      <td>2322279887</td>\n",
       "      <td>2019-08-15</td>\n",
       "      <td>2308</td>\n",
       "      <td>B</td>\n",
       "    </tr>\n",
       "  </tbody>\n",
       "</table>\n",
       "</div>"
      ],
      "text/plain": [
       "   transactionId   visitorId       date  revenue group\n",
       "0     3667963787  3312258926 2019-08-15     1650     B\n",
       "1     2804400009  3642806036 2019-08-15      730     B\n",
       "2     2961555356  4069496402 2019-08-15      400     A\n",
       "3     3797467345  1196621759 2019-08-15     9759     B\n",
       "4     2282983706  2322279887 2019-08-15     2308     B"
      ]
     },
     "execution_count": 7,
     "metadata": {},
     "output_type": "execute_result"
    }
   ],
   "source": [
    "#поменяем тип данных в столбце с датами\n",
    "orders['date'] = pd.to_datetime(orders['date'])\n",
    "orders.info()\n",
    "orders.head()"
   ]
  },
  {
   "cell_type": "code",
   "execution_count": 8,
   "metadata": {},
   "outputs": [
    {
     "data": {
      "text/plain": [
       "array(['B', 'A'], dtype=object)"
      ]
     },
     "execution_count": 8,
     "metadata": {},
     "output_type": "execute_result"
    }
   ],
   "source": [
    "#посмотрим, нет ли аномальных значений в столбце с группами\n",
    "orders['group'].unique()"
   ]
  },
  {
   "cell_type": "code",
   "execution_count": 9,
   "metadata": {},
   "outputs": [
    {
     "name": "stdout",
     "output_type": "stream",
     "text": [
      "Количество дубликатов - 0\n",
      "Количество пропусков - transactionId    0\n",
      "visitorId        0\n",
      "date             0\n",
      "revenue          0\n",
      "group            0\n",
      "dtype: int64\n"
     ]
    }
   ],
   "source": [
    "#проверка на пропуски и дубликаты\n",
    "print('Количество дубликатов -', orders.duplicated().sum())\n",
    "print('Количество пропусков -', orders.isna().sum())"
   ]
  },
  {
   "cell_type": "markdown",
   "metadata": {},
   "source": [
    "Теперь и с этим датасетом все в порядке, можем работать."
   ]
  },
  {
   "cell_type": "code",
   "execution_count": 10,
   "metadata": {},
   "outputs": [
    {
     "name": "stdout",
     "output_type": "stream",
     "text": [
      "<class 'pandas.core.frame.DataFrame'>\n",
      "RangeIndex: 62 entries, 0 to 61\n",
      "Data columns (total 3 columns):\n",
      " #   Column    Non-Null Count  Dtype \n",
      "---  ------    --------------  ----- \n",
      " 0   date      62 non-null     object\n",
      " 1   group     62 non-null     object\n",
      " 2   visitors  62 non-null     int64 \n",
      "dtypes: int64(1), object(2)\n",
      "memory usage: 1.6+ KB\n"
     ]
    },
    {
     "data": {
      "text/html": [
       "<div>\n",
       "<style scoped>\n",
       "    .dataframe tbody tr th:only-of-type {\n",
       "        vertical-align: middle;\n",
       "    }\n",
       "\n",
       "    .dataframe tbody tr th {\n",
       "        vertical-align: top;\n",
       "    }\n",
       "\n",
       "    .dataframe thead th {\n",
       "        text-align: right;\n",
       "    }\n",
       "</style>\n",
       "<table border=\"1\" class=\"dataframe\">\n",
       "  <thead>\n",
       "    <tr style=\"text-align: right;\">\n",
       "      <th></th>\n",
       "      <th>date</th>\n",
       "      <th>group</th>\n",
       "      <th>visitors</th>\n",
       "    </tr>\n",
       "  </thead>\n",
       "  <tbody>\n",
       "    <tr>\n",
       "      <th>0</th>\n",
       "      <td>2019-08-01</td>\n",
       "      <td>A</td>\n",
       "      <td>719</td>\n",
       "    </tr>\n",
       "    <tr>\n",
       "      <th>1</th>\n",
       "      <td>2019-08-02</td>\n",
       "      <td>A</td>\n",
       "      <td>619</td>\n",
       "    </tr>\n",
       "    <tr>\n",
       "      <th>2</th>\n",
       "      <td>2019-08-03</td>\n",
       "      <td>A</td>\n",
       "      <td>507</td>\n",
       "    </tr>\n",
       "    <tr>\n",
       "      <th>3</th>\n",
       "      <td>2019-08-04</td>\n",
       "      <td>A</td>\n",
       "      <td>717</td>\n",
       "    </tr>\n",
       "    <tr>\n",
       "      <th>4</th>\n",
       "      <td>2019-08-05</td>\n",
       "      <td>A</td>\n",
       "      <td>756</td>\n",
       "    </tr>\n",
       "  </tbody>\n",
       "</table>\n",
       "</div>"
      ],
      "text/plain": [
       "         date group  visitors\n",
       "0  2019-08-01     A       719\n",
       "1  2019-08-02     A       619\n",
       "2  2019-08-03     A       507\n",
       "3  2019-08-04     A       717\n",
       "4  2019-08-05     A       756"
      ]
     },
     "execution_count": 10,
     "metadata": {},
     "output_type": "execute_result"
    }
   ],
   "source": [
    "#ознакомимся с данными и проведем их очистку, если необходимо в датасете с пользователями\n",
    "visitors.info()\n",
    "visitors.head()"
   ]
  },
  {
   "cell_type": "code",
   "execution_count": 11,
   "metadata": {},
   "outputs": [
    {
     "name": "stdout",
     "output_type": "stream",
     "text": [
      "<class 'pandas.core.frame.DataFrame'>\n",
      "RangeIndex: 62 entries, 0 to 61\n",
      "Data columns (total 3 columns):\n",
      " #   Column    Non-Null Count  Dtype         \n",
      "---  ------    --------------  -----         \n",
      " 0   date      62 non-null     datetime64[ns]\n",
      " 1   group     62 non-null     object        \n",
      " 2   visitors  62 non-null     int64         \n",
      "dtypes: datetime64[ns](1), int64(1), object(1)\n",
      "memory usage: 1.6+ KB\n"
     ]
    },
    {
     "data": {
      "text/html": [
       "<div>\n",
       "<style scoped>\n",
       "    .dataframe tbody tr th:only-of-type {\n",
       "        vertical-align: middle;\n",
       "    }\n",
       "\n",
       "    .dataframe tbody tr th {\n",
       "        vertical-align: top;\n",
       "    }\n",
       "\n",
       "    .dataframe thead th {\n",
       "        text-align: right;\n",
       "    }\n",
       "</style>\n",
       "<table border=\"1\" class=\"dataframe\">\n",
       "  <thead>\n",
       "    <tr style=\"text-align: right;\">\n",
       "      <th></th>\n",
       "      <th>date</th>\n",
       "      <th>group</th>\n",
       "      <th>visitors</th>\n",
       "    </tr>\n",
       "  </thead>\n",
       "  <tbody>\n",
       "    <tr>\n",
       "      <th>0</th>\n",
       "      <td>2019-08-01</td>\n",
       "      <td>A</td>\n",
       "      <td>719</td>\n",
       "    </tr>\n",
       "    <tr>\n",
       "      <th>1</th>\n",
       "      <td>2019-08-02</td>\n",
       "      <td>A</td>\n",
       "      <td>619</td>\n",
       "    </tr>\n",
       "    <tr>\n",
       "      <th>2</th>\n",
       "      <td>2019-08-03</td>\n",
       "      <td>A</td>\n",
       "      <td>507</td>\n",
       "    </tr>\n",
       "    <tr>\n",
       "      <th>3</th>\n",
       "      <td>2019-08-04</td>\n",
       "      <td>A</td>\n",
       "      <td>717</td>\n",
       "    </tr>\n",
       "    <tr>\n",
       "      <th>4</th>\n",
       "      <td>2019-08-05</td>\n",
       "      <td>A</td>\n",
       "      <td>756</td>\n",
       "    </tr>\n",
       "  </tbody>\n",
       "</table>\n",
       "</div>"
      ],
      "text/plain": [
       "        date group  visitors\n",
       "0 2019-08-01     A       719\n",
       "1 2019-08-02     A       619\n",
       "2 2019-08-03     A       507\n",
       "3 2019-08-04     A       717\n",
       "4 2019-08-05     A       756"
      ]
     },
     "execution_count": 11,
     "metadata": {},
     "output_type": "execute_result"
    }
   ],
   "source": [
    "#поменяем тип данных в столбце с датами\n",
    "visitors['date'] = pd.to_datetime(visitors['date'])\n",
    "visitors.info()\n",
    "visitors.head()"
   ]
  },
  {
   "cell_type": "code",
   "execution_count": 12,
   "metadata": {},
   "outputs": [
    {
     "data": {
      "text/plain": [
       "array(['A', 'B'], dtype=object)"
      ]
     },
     "execution_count": 12,
     "metadata": {},
     "output_type": "execute_result"
    }
   ],
   "source": [
    "#также посмотрим, нет ли аномальных значений в столбце с группами\n",
    "visitors['group'].unique()"
   ]
  },
  {
   "cell_type": "code",
   "execution_count": 13,
   "metadata": {},
   "outputs": [
    {
     "name": "stdout",
     "output_type": "stream",
     "text": [
      "Количество дубликатов - 0\n",
      "Количество пропусков - date        0\n",
      "group       0\n",
      "visitors    0\n",
      "dtype: int64\n"
     ]
    }
   ],
   "source": [
    "#проверка на пропуски и дубликаты\n",
    "print('Количество дубликатов -', visitors.duplicated().sum())\n",
    "print('Количество пропусков -', visitors.isna().sum())"
   ]
  },
  {
   "cell_type": "code",
   "execution_count": 14,
   "metadata": {},
   "outputs": [
    {
     "name": "stdout",
     "output_type": "stream",
     "text": [
      "Общее кол-во заказов, с учетом тех, которые делали пользователи, кто вошел в обе группы: 1197 \n",
      "Кол-во заказов, которые были сделаны пользователями, вошедшими в обе группы: 181 \n",
      "Процент заказов, которые сделали пользователи, вошедшие в обе группы: 15.12\n"
     ]
    }
   ],
   "source": [
    "#проверим, нет ли таких пользователей, которые попали в обе группы\n",
    "\n",
    "#уникальные пользватели группы А\n",
    "a_group = orders.loc[(orders['group'] == \"A\"), 'visitorId'].unique()\n",
    "\n",
    "#пользователи группы B, которые входят в группу А\n",
    "double_group = orders.query('group == \"B\" and visitorId in @a_group')['visitorId'].unique()\n",
    "\n",
    "#найдем кол-во и процент пользователей, которые вошли в обе группы\n",
    "print('Общее кол-во заказов, с учетом тех, которые делали пользователи, кто вошел в обе группы:', \n",
    "      orders['visitorId'].count(), '\\n'\n",
    "     'Кол-во заказов, которые были сделаны пользователями, вошедшими в обе группы:',\n",
    "     orders.query('visitorId in @double_group')['visitorId'].count(), '\\n'\n",
    "     'Процент заказов, которые сделали пользователи, вошедшие в обе группы:', (\n",
    "         orders.query('visitorId in @double_group')['visitorId'].count()/orders['visitorId'].count() * 100).round(2)\n",
    "     )"
   ]
  },
  {
   "cell_type": "markdown",
   "metadata": {},
   "source": [
    "15% заказов от общего кол-ва - это довольно много. Однако данные по ним исказят результаты исследования, т.к. пользователи попали в обе тестируемые группы. Их действия и реакция на какие-либо изменения не показательны, т.к. для них оба варианта работали одновременно. Поэтому для чистоты эксперимента и релевантных результатов считаю необходимым удалить данные строки из датасета."
   ]
  },
  {
   "cell_type": "code",
   "execution_count": 15,
   "metadata": {},
   "outputs": [
    {
     "name": "stdout",
     "output_type": "stream",
     "text": [
      "<class 'pandas.core.frame.DataFrame'>\n",
      "Int64Index: 1016 entries, 0 to 1196\n",
      "Data columns (total 5 columns):\n",
      " #   Column         Non-Null Count  Dtype         \n",
      "---  ------         --------------  -----         \n",
      " 0   transactionId  1016 non-null   int64         \n",
      " 1   visitorId      1016 non-null   int64         \n",
      " 2   date           1016 non-null   datetime64[ns]\n",
      " 3   revenue        1016 non-null   int64         \n",
      " 4   group          1016 non-null   object        \n",
      "dtypes: datetime64[ns](1), int64(3), object(1)\n",
      "memory usage: 47.6+ KB\n"
     ]
    },
    {
     "data": {
      "text/html": [
       "<div>\n",
       "<style scoped>\n",
       "    .dataframe tbody tr th:only-of-type {\n",
       "        vertical-align: middle;\n",
       "    }\n",
       "\n",
       "    .dataframe tbody tr th {\n",
       "        vertical-align: top;\n",
       "    }\n",
       "\n",
       "    .dataframe thead th {\n",
       "        text-align: right;\n",
       "    }\n",
       "</style>\n",
       "<table border=\"1\" class=\"dataframe\">\n",
       "  <thead>\n",
       "    <tr style=\"text-align: right;\">\n",
       "      <th></th>\n",
       "      <th>transactionId</th>\n",
       "      <th>visitorId</th>\n",
       "      <th>date</th>\n",
       "      <th>revenue</th>\n",
       "      <th>group</th>\n",
       "    </tr>\n",
       "  </thead>\n",
       "  <tbody>\n",
       "    <tr>\n",
       "      <th>0</th>\n",
       "      <td>3667963787</td>\n",
       "      <td>3312258926</td>\n",
       "      <td>2019-08-15</td>\n",
       "      <td>1650</td>\n",
       "      <td>B</td>\n",
       "    </tr>\n",
       "    <tr>\n",
       "      <th>1</th>\n",
       "      <td>2804400009</td>\n",
       "      <td>3642806036</td>\n",
       "      <td>2019-08-15</td>\n",
       "      <td>730</td>\n",
       "      <td>B</td>\n",
       "    </tr>\n",
       "    <tr>\n",
       "      <th>3</th>\n",
       "      <td>3797467345</td>\n",
       "      <td>1196621759</td>\n",
       "      <td>2019-08-15</td>\n",
       "      <td>9759</td>\n",
       "      <td>B</td>\n",
       "    </tr>\n",
       "    <tr>\n",
       "      <th>4</th>\n",
       "      <td>2282983706</td>\n",
       "      <td>2322279887</td>\n",
       "      <td>2019-08-15</td>\n",
       "      <td>2308</td>\n",
       "      <td>B</td>\n",
       "    </tr>\n",
       "    <tr>\n",
       "      <th>5</th>\n",
       "      <td>182168103</td>\n",
       "      <td>935554773</td>\n",
       "      <td>2019-08-15</td>\n",
       "      <td>2210</td>\n",
       "      <td>B</td>\n",
       "    </tr>\n",
       "  </tbody>\n",
       "</table>\n",
       "</div>"
      ],
      "text/plain": [
       "   transactionId   visitorId       date  revenue group\n",
       "0     3667963787  3312258926 2019-08-15     1650     B\n",
       "1     2804400009  3642806036 2019-08-15      730     B\n",
       "3     3797467345  1196621759 2019-08-15     9759     B\n",
       "4     2282983706  2322279887 2019-08-15     2308     B\n",
       "5      182168103   935554773 2019-08-15     2210     B"
      ]
     },
     "execution_count": 15,
     "metadata": {},
     "output_type": "execute_result"
    }
   ],
   "source": [
    "#удаляем данные пользователей, попавших сразу в две группы\n",
    "orders = orders.query('visitorId not in @double_group')\n",
    "orders.info()\n",
    "orders.head()"
   ]
  },
  {
   "cell_type": "code",
   "execution_count": 16,
   "metadata": {},
   "outputs": [
    {
     "data": {
      "text/plain": [
       "B    548\n",
       "A    468\n",
       "Name: group, dtype: int64"
      ]
     },
     "execution_count": 16,
     "metadata": {},
     "output_type": "execute_result"
    }
   ],
   "source": [
    "#проверим, какое кол-во покупок теперь осталось в каждой из групп\n",
    "orders['group'].value_counts()"
   ]
  },
  {
   "cell_type": "markdown",
   "metadata": {},
   "source": [
    "**Вывод:** была проведена предобработка данных - в датасетах изменены тип данных столбцов с датами на корректные. Также были удалены данные по заказам пользователей, попавших сразу в обе тестируемые группы (15% от всех данных)."
   ]
  },
  {
   "cell_type": "markdown",
   "metadata": {},
   "source": [
    "## Приоритизация гипотез"
   ]
  },
  {
   "cell_type": "code",
   "execution_count": 17,
   "metadata": {},
   "outputs": [
    {
     "data": {
      "text/html": [
       "<div>\n",
       "<style scoped>\n",
       "    .dataframe tbody tr th:only-of-type {\n",
       "        vertical-align: middle;\n",
       "    }\n",
       "\n",
       "    .dataframe tbody tr th {\n",
       "        vertical-align: top;\n",
       "    }\n",
       "\n",
       "    .dataframe thead th {\n",
       "        text-align: right;\n",
       "    }\n",
       "</style>\n",
       "<table border=\"1\" class=\"dataframe\">\n",
       "  <thead>\n",
       "    <tr style=\"text-align: right;\">\n",
       "      <th></th>\n",
       "      <th>hypothesis</th>\n",
       "      <th>reach</th>\n",
       "      <th>impact</th>\n",
       "      <th>confidence</th>\n",
       "      <th>efforts</th>\n",
       "      <th>ice</th>\n",
       "    </tr>\n",
       "  </thead>\n",
       "  <tbody>\n",
       "    <tr>\n",
       "      <th>8</th>\n",
       "      <td>Запустить акцию, дающую скидку на товар в день...</td>\n",
       "      <td>1</td>\n",
       "      <td>9</td>\n",
       "      <td>9</td>\n",
       "      <td>5</td>\n",
       "      <td>16.20</td>\n",
       "    </tr>\n",
       "    <tr>\n",
       "      <th>0</th>\n",
       "      <td>Добавить два новых канала привлечения трафика,...</td>\n",
       "      <td>3</td>\n",
       "      <td>10</td>\n",
       "      <td>8</td>\n",
       "      <td>6</td>\n",
       "      <td>13.33</td>\n",
       "    </tr>\n",
       "    <tr>\n",
       "      <th>7</th>\n",
       "      <td>Добавить форму подписки на все основные страни...</td>\n",
       "      <td>10</td>\n",
       "      <td>7</td>\n",
       "      <td>8</td>\n",
       "      <td>5</td>\n",
       "      <td>11.20</td>\n",
       "    </tr>\n",
       "    <tr>\n",
       "      <th>6</th>\n",
       "      <td>Показать на главной странице баннеры с актуаль...</td>\n",
       "      <td>5</td>\n",
       "      <td>3</td>\n",
       "      <td>8</td>\n",
       "      <td>3</td>\n",
       "      <td>8.00</td>\n",
       "    </tr>\n",
       "    <tr>\n",
       "      <th>2</th>\n",
       "      <td>Добавить блоки рекомендаций товаров на сайт ин...</td>\n",
       "      <td>8</td>\n",
       "      <td>3</td>\n",
       "      <td>7</td>\n",
       "      <td>3</td>\n",
       "      <td>7.00</td>\n",
       "    </tr>\n",
       "    <tr>\n",
       "      <th>1</th>\n",
       "      <td>Запустить собственную службу доставки, что сок...</td>\n",
       "      <td>2</td>\n",
       "      <td>5</td>\n",
       "      <td>4</td>\n",
       "      <td>10</td>\n",
       "      <td>2.00</td>\n",
       "    </tr>\n",
       "    <tr>\n",
       "      <th>5</th>\n",
       "      <td>Добавить страницу отзывов клиентов о магазине,...</td>\n",
       "      <td>3</td>\n",
       "      <td>2</td>\n",
       "      <td>2</td>\n",
       "      <td>3</td>\n",
       "      <td>1.33</td>\n",
       "    </tr>\n",
       "    <tr>\n",
       "      <th>3</th>\n",
       "      <td>Изменить структура категорий, что увеличит кон...</td>\n",
       "      <td>8</td>\n",
       "      <td>3</td>\n",
       "      <td>3</td>\n",
       "      <td>8</td>\n",
       "      <td>1.12</td>\n",
       "    </tr>\n",
       "    <tr>\n",
       "      <th>4</th>\n",
       "      <td>Изменить цвет фона главной страницы, чтобы уве...</td>\n",
       "      <td>3</td>\n",
       "      <td>1</td>\n",
       "      <td>1</td>\n",
       "      <td>1</td>\n",
       "      <td>1.00</td>\n",
       "    </tr>\n",
       "  </tbody>\n",
       "</table>\n",
       "</div>"
      ],
      "text/plain": [
       "                                          hypothesis  reach  impact  \\\n",
       "8  Запустить акцию, дающую скидку на товар в день...      1       9   \n",
       "0  Добавить два новых канала привлечения трафика,...      3      10   \n",
       "7  Добавить форму подписки на все основные страни...     10       7   \n",
       "6  Показать на главной странице баннеры с актуаль...      5       3   \n",
       "2  Добавить блоки рекомендаций товаров на сайт ин...      8       3   \n",
       "1  Запустить собственную службу доставки, что сок...      2       5   \n",
       "5  Добавить страницу отзывов клиентов о магазине,...      3       2   \n",
       "3  Изменить структура категорий, что увеличит кон...      8       3   \n",
       "4  Изменить цвет фона главной страницы, чтобы уве...      3       1   \n",
       "\n",
       "   confidence  efforts    ice  \n",
       "8           9        5  16.20  \n",
       "0           8        6  13.33  \n",
       "7           8        5  11.20  \n",
       "6           8        3   8.00  \n",
       "2           7        3   7.00  \n",
       "1           4       10   2.00  \n",
       "5           2        3   1.33  \n",
       "3           3        8   1.12  \n",
       "4           1        1   1.00  "
      ]
     },
     "metadata": {},
     "output_type": "display_data"
    }
   ],
   "source": [
    "#добавим новый столбец и рассчитаем ICE\n",
    "hypothesis['ice'] = ((hypothesis['impact'] * hypothesis['confidence']) / hypothesis['efforts']).round(2)\n",
    "               \n",
    "display(hypothesis.sort_values(by = 'ice', ascending = False)) "
   ]
  },
  {
   "cell_type": "markdown",
   "metadata": {},
   "source": [
    "Лидируют 8, 0, 7, 6 и 2 гипотезы со значительным отрывом."
   ]
  },
  {
   "cell_type": "code",
   "execution_count": 18,
   "metadata": {},
   "outputs": [
    {
     "data": {
      "text/html": [
       "<div>\n",
       "<style scoped>\n",
       "    .dataframe tbody tr th:only-of-type {\n",
       "        vertical-align: middle;\n",
       "    }\n",
       "\n",
       "    .dataframe tbody tr th {\n",
       "        vertical-align: top;\n",
       "    }\n",
       "\n",
       "    .dataframe thead th {\n",
       "        text-align: right;\n",
       "    }\n",
       "</style>\n",
       "<table border=\"1\" class=\"dataframe\">\n",
       "  <thead>\n",
       "    <tr style=\"text-align: right;\">\n",
       "      <th></th>\n",
       "      <th>hypothesis</th>\n",
       "      <th>reach</th>\n",
       "      <th>impact</th>\n",
       "      <th>confidence</th>\n",
       "      <th>efforts</th>\n",
       "      <th>ice</th>\n",
       "      <th>rice</th>\n",
       "    </tr>\n",
       "  </thead>\n",
       "  <tbody>\n",
       "    <tr>\n",
       "      <th>7</th>\n",
       "      <td>Добавить форму подписки на все основные страни...</td>\n",
       "      <td>10</td>\n",
       "      <td>7</td>\n",
       "      <td>8</td>\n",
       "      <td>5</td>\n",
       "      <td>11.20</td>\n",
       "      <td>112.0</td>\n",
       "    </tr>\n",
       "    <tr>\n",
       "      <th>2</th>\n",
       "      <td>Добавить блоки рекомендаций товаров на сайт ин...</td>\n",
       "      <td>8</td>\n",
       "      <td>3</td>\n",
       "      <td>7</td>\n",
       "      <td>3</td>\n",
       "      <td>7.00</td>\n",
       "      <td>56.0</td>\n",
       "    </tr>\n",
       "    <tr>\n",
       "      <th>0</th>\n",
       "      <td>Добавить два новых канала привлечения трафика,...</td>\n",
       "      <td>3</td>\n",
       "      <td>10</td>\n",
       "      <td>8</td>\n",
       "      <td>6</td>\n",
       "      <td>13.33</td>\n",
       "      <td>40.0</td>\n",
       "    </tr>\n",
       "    <tr>\n",
       "      <th>6</th>\n",
       "      <td>Показать на главной странице баннеры с актуаль...</td>\n",
       "      <td>5</td>\n",
       "      <td>3</td>\n",
       "      <td>8</td>\n",
       "      <td>3</td>\n",
       "      <td>8.00</td>\n",
       "      <td>40.0</td>\n",
       "    </tr>\n",
       "    <tr>\n",
       "      <th>8</th>\n",
       "      <td>Запустить акцию, дающую скидку на товар в день...</td>\n",
       "      <td>1</td>\n",
       "      <td>9</td>\n",
       "      <td>9</td>\n",
       "      <td>5</td>\n",
       "      <td>16.20</td>\n",
       "      <td>16.2</td>\n",
       "    </tr>\n",
       "    <tr>\n",
       "      <th>3</th>\n",
       "      <td>Изменить структура категорий, что увеличит кон...</td>\n",
       "      <td>8</td>\n",
       "      <td>3</td>\n",
       "      <td>3</td>\n",
       "      <td>8</td>\n",
       "      <td>1.12</td>\n",
       "      <td>9.0</td>\n",
       "    </tr>\n",
       "    <tr>\n",
       "      <th>1</th>\n",
       "      <td>Запустить собственную службу доставки, что сок...</td>\n",
       "      <td>2</td>\n",
       "      <td>5</td>\n",
       "      <td>4</td>\n",
       "      <td>10</td>\n",
       "      <td>2.00</td>\n",
       "      <td>4.0</td>\n",
       "    </tr>\n",
       "    <tr>\n",
       "      <th>5</th>\n",
       "      <td>Добавить страницу отзывов клиентов о магазине,...</td>\n",
       "      <td>3</td>\n",
       "      <td>2</td>\n",
       "      <td>2</td>\n",
       "      <td>3</td>\n",
       "      <td>1.33</td>\n",
       "      <td>4.0</td>\n",
       "    </tr>\n",
       "    <tr>\n",
       "      <th>4</th>\n",
       "      <td>Изменить цвет фона главной страницы, чтобы уве...</td>\n",
       "      <td>3</td>\n",
       "      <td>1</td>\n",
       "      <td>1</td>\n",
       "      <td>1</td>\n",
       "      <td>1.00</td>\n",
       "      <td>3.0</td>\n",
       "    </tr>\n",
       "  </tbody>\n",
       "</table>\n",
       "</div>"
      ],
      "text/plain": [
       "                                          hypothesis  reach  impact  \\\n",
       "7  Добавить форму подписки на все основные страни...     10       7   \n",
       "2  Добавить блоки рекомендаций товаров на сайт ин...      8       3   \n",
       "0  Добавить два новых канала привлечения трафика,...      3      10   \n",
       "6  Показать на главной странице баннеры с актуаль...      5       3   \n",
       "8  Запустить акцию, дающую скидку на товар в день...      1       9   \n",
       "3  Изменить структура категорий, что увеличит кон...      8       3   \n",
       "1  Запустить собственную службу доставки, что сок...      2       5   \n",
       "5  Добавить страницу отзывов клиентов о магазине,...      3       2   \n",
       "4  Изменить цвет фона главной страницы, чтобы уве...      3       1   \n",
       "\n",
       "   confidence  efforts    ice   rice  \n",
       "7           8        5  11.20  112.0  \n",
       "2           7        3   7.00   56.0  \n",
       "0           8        6  13.33   40.0  \n",
       "6           8        3   8.00   40.0  \n",
       "8           9        5  16.20   16.2  \n",
       "3           3        8   1.12    9.0  \n",
       "1           4       10   2.00    4.0  \n",
       "5           2        3   1.33    4.0  \n",
       "4           1        1   1.00    3.0  "
      ]
     },
     "metadata": {},
     "output_type": "display_data"
    }
   ],
   "source": [
    "#добавим новый столбец и рассчитаем RICE\n",
    "hypothesis['rice'] = ((hypothesis['reach'] * hypothesis['confidence'] * hypothesis['impact']) / hypothesis['efforts']).round(2)\n",
    "               \n",
    "display(hypothesis.sort_values(by = 'rice', ascending = False)) "
   ]
  },
  {
   "cell_type": "markdown",
   "metadata": {},
   "source": [
    "Теперь лидируют гипотезы 7, 2, 0, 6 и 8, т.е. все те же, но отличается порядок."
   ]
  },
  {
   "cell_type": "code",
   "execution_count": 19,
   "metadata": {},
   "outputs": [
    {
     "name": "stdout",
     "output_type": "stream",
     "text": [
      "Гипотеза, которую рекомендуется проверить в первом приоритете: Добавить форму подписки на все основные страницы, чтобы собрать базу клиентов для email-рассылок\n"
     ]
    }
   ],
   "source": [
    "print('Гипотеза, которую рекомендуется проверить в первом приоритете:', hypothesis['hypothesis'][7])"
   ]
  },
  {
   "cell_type": "markdown",
   "metadata": {},
   "source": [
    "**Вывод**: провели приоритезацию работы с гипотезами, проверять будем гипотезу №7. Метод RICE дал более релевантный результат, т.к. учитывает уровень охвата, т.е. кол-во пользователей за данных временной промежуток."
   ]
  },
  {
   "cell_type": "markdown",
   "metadata": {},
   "source": [
    "**Проверка корректности выбранного размера выборки**"
   ]
  },
  {
   "cell_type": "code",
   "execution_count": 20,
   "metadata": {},
   "outputs": [
    {
     "name": "stdout",
     "output_type": "stream",
     "text": [
      "Тест длился 30 days 00:00:00\n"
     ]
    }
   ],
   "source": [
    "print('Тест длился', visitors['date'].max() - visitors['date'].min())"
   ]
  },
  {
   "cell_type": "code",
   "execution_count": 21,
   "metadata": {},
   "outputs": [
    {
     "name": "stdout",
     "output_type": "stream",
     "text": [
      "Кол-во посетителей в группе А: 18736 \n",
      "Кол-во посетителей в группе B: 18916\n",
      "Кол-во покупок в группе A: 468 \n",
      "Кол-во покупок в группе B: 548\n"
     ]
    }
   ],
   "source": [
    "print('Кол-во посетителей в группе А:', visitors[visitors['group']=='A']['visitors'].sum(), '\\n'\n",
    "      'Кол-во посетителей в группе B:', visitors[visitors['group']=='B']['visitors'].sum())\n",
    "\n",
    "print('Кол-во покупок в группе A:', len(orders[orders['group']=='A']), '\\n'\n",
    "      'Кол-во покупок в группе B:', len(orders[orders['group']=='B']))\n"
   ]
  },
  {
   "cell_type": "code",
   "execution_count": 22,
   "metadata": {},
   "outputs": [
    {
     "name": "stdout",
     "output_type": "stream",
     "text": [
      "pvalue: 0.7301376549390499\n",
      "Разница в количестве посетителей в группах A и B статистически не значима.\n"
     ]
    }
   ],
   "source": [
    "#рассчет статистической значимости между кол-вом поситетителей в группе\n",
    "results = st.mannwhitneyu(visitors[visitors['group']=='A']['visitors'], \n",
    "                          visitors[visitors['group']=='B']['visitors'])\n",
    "\n",
    "alpha = 0.05\n",
    "print('pvalue:', results.pvalue)\n",
    "if results.pvalue < alpha:\n",
    "    print('Разница в количестве посетителей в группах A и B статистически значима.')\n",
    "else:\n",
    "    print('Разница в количестве посетителей в группах A и B статистически не значима.')"
   ]
  },
  {
   "cell_type": "markdown",
   "metadata": {},
   "source": [
    "**Построим график кумулятивной выручки по группам**"
   ]
  },
  {
   "cell_type": "code",
   "execution_count": 23,
   "metadata": {},
   "outputs": [],
   "source": [
    "datesGroups = orders[['date', 'group']].drop_duplicates()\n",
    "\n",
    "ordersAggregated = datesGroups.apply(\n",
    "    lambda x: orders[\n",
    "        np.logical_and(\n",
    "            orders['date'] <= x['date'], orders['group'] == x['group']\n",
    "        )\n",
    "    ].agg(\n",
    "        {\n",
    "            'date': 'max',\n",
    "            'group': 'max',\n",
    "            'transactionId': 'nunique',\n",
    "            'visitorId': 'nunique',\n",
    "            'revenue': 'sum',\n",
    "        }\n",
    "    ),\n",
    "    axis=1,\n",
    ").sort_values(by=['date', 'group'])\n",
    "\n",
    "visitorsAggregated = datesGroups.apply(\n",
    "    lambda x: visitors[\n",
    "        np.logical_and(\n",
    "            visitors['date'] <= x['date'], visitors['group'] == x['group']\n",
    "        )\n",
    "    ].agg({'date': 'max', 'group': 'max', 'visitors': 'sum'}),\n",
    "    axis=1,\n",
    ").sort_values(by=['date', 'group'])\n",
    "\n",
    "cumulativeData = ordersAggregated.merge(\n",
    "    visitorsAggregated, left_on=['date', 'group'], right_on=['date', 'group']\n",
    ")\n",
    "cumulativeData.columns = [\n",
    "    'date',\n",
    "    'group',\n",
    "    'orders',\n",
    "    'buyers',\n",
    "    'revenue',\n",
    "    'visitors',\n",
    "]"
   ]
  },
  {
   "cell_type": "code",
   "execution_count": 24,
   "metadata": {},
   "outputs": [
    {
     "data": {
      "image/png": "[encoded data removed]",
      "text/plain": [
       "<Figure size 864x576 with 1 Axes>"
      ]
     },
     "metadata": {
      "needs_background": "light"
     },
     "output_type": "display_data"
    }
   ],
   "source": [
    "cumulativeRevenueA = cumulativeData[cumulativeData['group']=='A'][['date','revenue', 'orders']]\n",
    "\n",
    "cumulativeRevenueB = cumulativeData[cumulativeData['group']=='B'][['date','revenue', 'orders']]\n",
    "\n",
    "plt.figure(figsize=(12,8))\n",
    "plt.plot(cumulativeRevenueA['date'], cumulativeRevenueA['revenue'], label='группа A')\n",
    "plt.plot(cumulativeRevenueB['date'], cumulativeRevenueB['revenue'], label='группа B')\n",
    "plt.title('Кумулятивная выручка по группам')\n",
    "plt.xlabel('Дата')\n",
    "plt.ylabel('Выручка')\n",
    "plt.grid()\n",
    "plt.legend()\n",
    "plt.show()"
   ]
  },
  {
   "cell_type": "markdown",
   "metadata": {},
   "source": [
    "**Вывод:** в начале проведения теста и до его середины выручка почти равномерно увеличивается в обеих группах, однако далее происходит резкий скачок в группе B, и после показатели не снижаются снова к прежнему уровню. Наличие резкого изменения могло бы указывать на всплеск числа заказов или же о появлении очень дорогих заказов (которые могут быть выбросами, их проанализируем далее), однако дальше видим стабильный продолжающийся рост кумулятивной выручки. Важно отметить, что размер кумулятивной выручки группы А также стабильно растет до окончания теста."
   ]
  },
  {
   "cell_type": "markdown",
   "metadata": {},
   "source": [
    "**Построим график кумулятивного среднего чека по группам**"
   ]
  },
  {
   "cell_type": "code",
   "execution_count": 25,
   "metadata": {},
   "outputs": [
    {
     "data": {
      "text/plain": [
       "<matplotlib.legend.Legend at 0x7f2d0f737970>"
      ]
     },
     "execution_count": 25,
     "metadata": {},
     "output_type": "execute_result"
    },
    {
     "data": {
      "image/png": "[encoded data removed]",
      "text/plain": [
       "<Figure size 864x576 with 1 Axes>"
      ]
     },
     "metadata": {
      "needs_background": "light"
     },
     "output_type": "display_data"
    }
   ],
   "source": [
    "plt.figure(figsize=(12,8))\n",
    "plt.plot(cumulativeRevenueA['date'], cumulativeRevenueA['revenue']/cumulativeRevenueA['orders'], label='группа A')\n",
    "plt.plot(cumulativeRevenueB['date'], cumulativeRevenueB['revenue']/cumulativeRevenueB['orders'], label='группа B')\n",
    "plt.title('Кумулятивный средний чек по группам')\n",
    "plt.xlabel('Дата')\n",
    "plt.ylabel('Средний чек')\n",
    "plt.grid()\n",
    "plt.legend()"
   ]
  },
  {
   "cell_type": "markdown",
   "metadata": {},
   "source": [
    "**Вывод:** интересная картина. Видим, что результаты стабилизировались в обеих группах ближе ко второй половине теста. Средний чек группы А имеет рост, но незначительный. А вот средний чек группы В наоборот подает, однако с высоты того самого всплеска, который был нами обнаружен ранее. Однозначно необходимо проверить выбросы. Возможно, группе В нужно больше данных, чтобы прийти к реальному среднему чеку и установиться на его уровне."
   ]
  },
  {
   "cell_type": "markdown",
   "metadata": {},
   "source": [
    "**Построим график относительного изменения кумулятивного среднего чека группы В к группе А**"
   ]
  },
  {
   "cell_type": "code",
   "execution_count": 26,
   "metadata": {},
   "outputs": [
    {
     "data": {
      "image/png": "[encoded data removed]",
      "text/plain": [
       "<Figure size 864x576 with 1 Axes>"
      ]
     },
     "metadata": {
      "needs_background": "light"
     },
     "output_type": "display_data"
    }
   ],
   "source": [
    "mergedCumulativeRevenue = cumulativeRevenueA.merge(cumulativeRevenueB, left_on='date', right_on='date', how='left', suffixes=['A', 'B'])\n",
    "\n",
    "plt.figure(figsize=(12,8))\n",
    "plt.plot(mergedCumulativeRevenue['date'], \n",
    "         (mergedCumulativeRevenue['revenueB']/mergedCumulativeRevenue['ordersB'])/(\n",
    "             mergedCumulativeRevenue['revenueA']/mergedCumulativeRevenue['ordersA'])-1)\n",
    "plt.title('Относительные изменения кумулятивного среднего чека группы В к А')\n",
    "plt.xlabel('Дата')\n",
    "plt.ylabel('Относительное изменение среднего чека')\n",
    "plt.grid()\n",
    "plt.axhline(y=0, color='grey', linestyle='--');"
   ]
  },
  {
   "cell_type": "markdown",
   "metadata": {},
   "source": [
    "**Вывод:** в нескольких точках график различия между сегментами резко «скачет». Делаем вывод, что крупные заказы и выбросы точно присутствуют. В начале теста кумулятивный средний чек был значительно больше у группы А, чем у группы В. Тем не менее наличие спада ниже нулевого значения к середниче теста говорит о том, что группа А не на долго вырвалась вперед, однако далее группа В все же одержала верх (вероятно, из-за резкого увеличения среднего чека в результате крупных покупок). "
   ]
  },
  {
   "cell_type": "markdown",
   "metadata": {},
   "source": [
    "**Построим график кумулятивного среднего кол-ва заказов на посетителя по группам**"
   ]
  },
  {
   "cell_type": "code",
   "execution_count": 27,
   "metadata": {},
   "outputs": [
    {
     "data": {
      "text/plain": [
       "(18108.0, 18140.0, 0.023, 0.037)"
      ]
     },
     "execution_count": 27,
     "metadata": {},
     "output_type": "execute_result"
    },
    {
     "data": {
      "image/png": "[encoded data removed]",
      "text/plain": [
       "<Figure size 864x576 with 1 Axes>"
      ]
     },
     "metadata": {
      "needs_background": "light"
     },
     "output_type": "display_data"
    }
   ],
   "source": [
    "cumulativeData['order_visitor'] = (cumulativeData['orders'] / cumulativeData['visitors'])\n",
    "\n",
    "cumulativeDataA = cumulativeData[cumulativeData['group']=='A']\n",
    "cumulativeDataB = cumulativeData[cumulativeData['group']=='B']\n",
    "\n",
    "plt.figure(figsize=(12,8))\n",
    "plt.plot(cumulativeDataA['date'], cumulativeDataA['orders']/cumulativeDataA['visitors'], label='A')\n",
    "plt.plot(cumulativeDataB['date'], cumulativeDataB['orders']/cumulativeDataB['visitors'], label='B')\n",
    "plt.title('Кумулятивное среднего количества заказов на посетителя по группам')\n",
    "plt.xlabel('Дата')\n",
    "plt.ylabel('Среднее кол-во заказов на посетителя')\n",
    "plt.grid()\n",
    "plt.legend()\n",
    "plt.axis([dt.datetime(2019, 7, 31), dt.datetime(2019, 9, 1), 0.023, 0.037])"
   ]
  },
  {
   "cell_type": "markdown",
   "metadata": {},
   "source": [
    "**Вывод:** группы колебались около одного значения, но затем у группы В среднее количество заказов вырвалось вперёд, некоторые колебания остались, но не такие резкие, как в начале теста. У группы А среднее кол-во заказов после скачка сильно просело и продолжило падать также с небольшими колебаниями. Важно отметить, что среднее кумулятивное кол-во заказов группы А спадало до конца теста. Также и у группы В, но ближе ко второй половине теста среднее стабилизировалось."
   ]
  },
  {
   "cell_type": "markdown",
   "metadata": {},
   "source": [
    "**Построим график относительного изменения кумулятивного среднего количества заказов на посетителя группы В к группе А**"
   ]
  },
  {
   "cell_type": "code",
   "execution_count": 28,
   "metadata": {},
   "outputs": [
    {
     "data": {
      "text/plain": [
       "(18108.0, 18140.0, -0.3, 0.3)"
      ]
     },
     "execution_count": 28,
     "metadata": {},
     "output_type": "execute_result"
    },
    {
     "data": {
      "image/png": "[encoded data removed]",
      "text/plain": [
       "<Figure size 864x576 with 1 Axes>"
      ]
     },
     "metadata": {
      "needs_background": "light"
     },
     "output_type": "display_data"
    }
   ],
   "source": [
    "mergedCumulativeData = cumulativeDataA[['date','order_visitor']].merge(\n",
    "    cumulativeDataB[['date','order_visitor']], \n",
    "    left_on='date', \n",
    "    right_on='date', \n",
    "    how='left', \n",
    "    suffixes=['A', 'B'])\n",
    "\n",
    "plt.figure(figsize=(12,8))\n",
    "plt.plot(mergedCumulativeData['date'], \n",
    "         mergedCumulativeData['order_visitorB']/mergedCumulativeData['order_visitorA']-1, \n",
    "         label=\"Относительный прирост количества заказов на посетителя группы B относительно группы A\")\n",
    "plt.title('Относительное изменение кумулятивного среднего количества заказов на посетителя группы В к А')\n",
    "plt.xlabel('Дата')\n",
    "plt.ylabel('Относительное изменение среднего кол-ва заказов на посетителя')\n",
    "plt.grid()\n",
    "plt.legend()\n",
    "\n",
    "plt.axhline(y=0, color='black', linestyle='--')\n",
    "plt.axhline(y=0.2, color='grey', linestyle='--')\n",
    "plt.axis([\"2019-07-31\", '2019-09-01', -0.3, 0.3])"
   ]
  },
  {
   "cell_type": "markdown",
   "metadata": {},
   "source": [
    "**Вывод:**: в начале теста группа B проигрывала группе A, затем вырвалась вперёд. Далее среднее количество заказов на посетителя для группы B скакало. Уверенно можем сказать, что среднее кол-во заказов было больше на ~15% уже спустя неделю тестирования и до его конца не опускалось ниже 12%."
   ]
  },
  {
   "cell_type": "markdown",
   "metadata": {},
   "source": [
    "**Построим точечный график кол-ва заказов по пользователям**"
   ]
  },
  {
   "cell_type": "code",
   "execution_count": 29,
   "metadata": {},
   "outputs": [
    {
     "data": {
      "text/plain": [
       "<matplotlib.collections.PathCollection at 0x7f2d06f96a00>"
      ]
     },
     "execution_count": 29,
     "metadata": {},
     "output_type": "execute_result"
    },
    {
     "data": {
      "image/png": "[encoded data removed]",
      "text/plain": [
       "<Figure size 864x576 with 1 Axes>"
      ]
     },
     "metadata": {
      "needs_background": "light"
     },
     "output_type": "display_data"
    }
   ],
   "source": [
    "\n",
    "ordersByUsers = (\n",
    "    orders.groupby('visitorId', as_index=False)\n",
    "    .agg({'transactionId': 'nunique'})\n",
    ")\n",
    "ordersByUsers.columns = ['userId', 'orders']\n",
    "\n",
    "plt.figure(figsize=(12,8))\n",
    "plt.grid()\n",
    "plt.title('Количество заказов по пользователям')\n",
    "plt.xlabel('Кол-во пользователей')\n",
    "plt.ylabel('Кол-во заказов')\n",
    "\n",
    "x_values = pd.Series(range(0, len(ordersByUsers)))\n",
    "plt.scatter(x_values, ordersByUsers['orders'])"
   ]
  },
  {
   "cell_type": "markdown",
   "metadata": {},
   "source": [
    "**Вывод**: чаще всего пользователи делают 1-2 заказа, 3 заказа - редкий случай."
   ]
  },
  {
   "cell_type": "markdown",
   "metadata": {},
   "source": [
    "**Вычисление 95-го и 99-го перцентилей кол-ва заказов на одного пользователя**"
   ]
  },
  {
   "cell_type": "code",
   "execution_count": 30,
   "metadata": {},
   "outputs": [
    {
     "data": {
      "text/plain": [
       "array([1., 2.])"
      ]
     },
     "execution_count": 30,
     "metadata": {},
     "output_type": "execute_result"
    }
   ],
   "source": [
    "np.percentile(ordersByUsers['orders'],[95,99])"
   ]
  },
  {
   "cell_type": "markdown",
   "metadata": {},
   "source": [
    "**Вывод**: не более 5% пользователей делали 1 заказ, и не более 2-х заказов делали 1% пользователей. За границу диапазона фильтрации примем кол-во заказов равное 2."
   ]
  },
  {
   "cell_type": "markdown",
   "metadata": {},
   "source": [
    "**Построим точечный график стоимости заказов**"
   ]
  },
  {
   "cell_type": "code",
   "execution_count": 31,
   "metadata": {},
   "outputs": [
    {
     "data": {
      "text/plain": [
       "<matplotlib.collections.PathCollection at 0x7f2d06f0d760>"
      ]
     },
     "execution_count": 31,
     "metadata": {},
     "output_type": "execute_result"
    },
    {
     "data": {
      "image/png": "[encoded data removed]",
      "text/plain": [
       "<Figure size 864x576 with 1 Axes>"
      ]
     },
     "metadata": {
      "needs_background": "light"
     },
     "output_type": "display_data"
    }
   ],
   "source": [
    "RevenueByUsers = pd.Series(range(0, len(orders['revenue'])))\n",
    "\n",
    "plt.figure(figsize=(12,8))\n",
    "plt.grid()\n",
    "plt.title('График стоимостей заказов')\n",
    "plt.xlabel('Количество пользователей')\n",
    "plt.ylabel('Стоимость заказов')\n",
    "\n",
    "plt.scatter(RevenueByUsers, orders['revenue'])"
   ]
  },
  {
   "cell_type": "markdown",
   "metadata": {},
   "source": [
    "**Вывод:** видим те самые выбросы - около 200 тыс. р. и чуть больше 1,2 млн р. Чаще всего пользователи делали заказы стоимостью не более 150 тыс. р. "
   ]
  },
  {
   "cell_type": "code",
   "execution_count": 32,
   "metadata": {},
   "outputs": [
    {
     "data": {
      "text/plain": [
       "<matplotlib.collections.PathCollection at 0x7f2d06ebd250>"
      ]
     },
     "execution_count": 32,
     "metadata": {},
     "output_type": "execute_result"
    },
    {
     "data": {
      "image/png": "[encoded data removed]",
      "text/plain": [
       "<Figure size 864x576 with 1 Axes>"
      ]
     },
     "metadata": {
      "needs_background": "light"
     },
     "output_type": "display_data"
    }
   ],
   "source": [
    "#посмотрим на график без выбросов\n",
    "#за верхнюю границу стоимости возьмем 200 тыс. р.\n",
    "\n",
    "result = orders[orders['revenue']<202000]['revenue']\n",
    "xn_values = pd.Series(range(0,len(result)))\n",
    "\n",
    "plt.figure(figsize=(12,8))\n",
    "plt.grid()\n",
    "plt.title('График стоимостей заказов без аномалий')\n",
    "plt.xlabel('Количество пользователей')\n",
    "plt.ylabel('Стоимость заказов')\n",
    "plt.scatter(xn_values, result, alpha=0.5)\n"
   ]
  },
  {
   "cell_type": "markdown",
   "metadata": {},
   "source": [
    "**Вывод:** судя по результатам, большая часть заказов стоит не более 40 тыс. р."
   ]
  },
  {
   "cell_type": "markdown",
   "metadata": {},
   "source": [
    "**Вычисление 95-го и 99-го перцентилей стоимости заказов**"
   ]
  },
  {
   "cell_type": "code",
   "execution_count": 33,
   "metadata": {},
   "outputs": [
    {
     "data": {
      "text/plain": [
       "array([26785., 53904.])"
      ]
     },
     "execution_count": 33,
     "metadata": {},
     "output_type": "execute_result"
    }
   ],
   "source": [
    "np.percentile(orders['revenue'],[95,99])"
   ]
  },
  {
   "cell_type": "markdown",
   "metadata": {},
   "source": [
    "**Вывод:** не более 5% заказов стоят ~26 тыс. р. и не более 1% заказов стоят ~53 тыс. р. Таким образом верхней границей можем взять 54 тыс. р."
   ]
  },
  {
   "cell_type": "markdown",
   "metadata": {},
   "source": [
    "**Посчитаем статистическую значимость различий в среднем кол-ве заказов на посетителя между группами по «сырым» данным**"
   ]
  },
  {
   "cell_type": "markdown",
   "metadata": {},
   "source": [
    "<br>Нулевая: различий в среднем кол-ве заказов на посетителя между группами А и В нет.\n",
    "<br>Альтернативная: различия в среднем количестве заказов на посетителя между группами А и В есть.\n",
    "\n",
    "<br>Для проверки предположения о нормальности распределения данных используем критерий Манна-Уитни, так как в данных присутствуют выбросы, т.е. другие методы существенно повлияют на результат."
   ]
  },
  {
   "cell_type": "code",
   "execution_count": 34,
   "metadata": {},
   "outputs": [
    {
     "name": "stdout",
     "output_type": "stream",
     "text": [
      "Значение pvalue: 0.011 \n",
      "Относительная разница между группами: 0.16\n"
     ]
    }
   ],
   "source": [
    "ordersByUsersA = (\n",
    "    orders[orders['group'] == 'A']\n",
    "    .groupby('visitorId', as_index=False)\n",
    "    .agg({'transactionId': pd.Series.nunique})\n",
    ")\n",
    "ordersByUsersA.columns = ['userId', 'orders']\n",
    "\n",
    "ordersByUsersB = (\n",
    "    orders[orders['group'] == 'B']\n",
    "    .groupby('visitorId', as_index=False)\n",
    "    .agg({'transactionId': pd.Series.nunique})\n",
    ")\n",
    "ordersByUsersB.columns = ['userId', 'orders'] \n",
    "\n",
    "sampleA = pd.concat([ordersByUsersA['orders'],pd.Series(0, index=np.arange(visitors[visitors['group'] == 'A']['visitors'].sum() - len(ordersByUsersA['orders'])), name='orders')],axis=0)\n",
    "\n",
    "sampleB = pd.concat([ordersByUsersB['orders'],pd.Series(0, index=np.arange(visitors[visitors['group'] == 'B']['visitors'].sum() - len(ordersByUsersB['orders'])), name='orders')],axis=0)\n",
    "\n",
    "ordersByUsersA = (\n",
    "    orders[orders['group'] == 'A']\n",
    "    .groupby('visitorId', as_index=False)\n",
    "    .agg({'transactionId': pd.Series.nunique})\n",
    ")\n",
    "ordersByUsersA.columns = ['userId', 'orders']\n",
    "\n",
    "ordersByUsersB = (\n",
    "    orders[orders['group'] == 'B']\n",
    "    .groupby('visitorId', as_index=False)\n",
    "    .agg({'transactionId': pd.Series.nunique})\n",
    ")\n",
    "ordersByUsersB.columns = ['userId', 'orders']\n",
    "\n",
    "sampleA = pd.concat(\n",
    "    [\n",
    "        ordersByUsersA['orders'],\n",
    "        pd.Series(\n",
    "            0,\n",
    "            index=np.arange(\n",
    "                visitors[visitors['group'] == 'A']['visitors'].sum() - len(ordersByUsersA['orders'])\n",
    "            ),\n",
    "            name='orders',\n",
    "        ),\n",
    "    ],\n",
    "    axis=0,\n",
    ")\n",
    "\n",
    "\n",
    "sampleB = pd.concat(\n",
    "    [\n",
    "        ordersByUsersB['orders'],\n",
    "        pd.Series(\n",
    "            0,\n",
    "            index=np.arange(\n",
    "                visitors[visitors['group'] == 'B']['visitors'].sum() - len(ordersByUsersB['orders'])\n",
    "            ),\n",
    "            name='orders',\n",
    "        ),\n",
    "    ],\n",
    "    axis=0,\n",
    ")\n",
    "\n",
    "print('Значение pvalue:', (st.mannwhitneyu(sampleA, sampleB)[1]).round(3), '\\n' \n",
    "      'Относительная разница между группами:', ((sampleB.mean()/sampleA.mean() - 1).round(3)))"
   ]
  },
  {
   "cell_type": "markdown",
   "metadata": {},
   "source": [
    "**Вывод:** pvalue вышел менее 0,05. Это значит, что мы должны отвергнуть нулевую гипотезу - статистически значимые отличия между группами А и В есть."
   ]
  },
  {
   "cell_type": "markdown",
   "metadata": {},
   "source": [
    "**Посчитаем статистическую значимость различий в среднем чеке заказа между группами по «сырым» данным**"
   ]
  },
  {
   "cell_type": "code",
   "execution_count": 35,
   "metadata": {},
   "outputs": [
    {
     "name": "stdout",
     "output_type": "stream",
     "text": [
      "Значение pvalue: 0.829 \n",
      "Относительная разница между группами: 0.287\n"
     ]
    }
   ],
   "source": [
    "print('Значение pvalue:', (st.mannwhitneyu(\n",
    "    orders[orders['group']=='A']['revenue'], \n",
    "    orders[orders['group']=='B']['revenue'])[1]).round(3), '\\n'\n",
    "      'Относительная разница между группами:', \n",
    "      (orders[orders['group']=='B']['revenue'].mean()/orders[orders['group']=='A']['revenue'].mean()-1).round(3))"
   ]
  },
  {
   "cell_type": "markdown",
   "metadata": {},
   "source": [
    "**Вывод:** pvalue больше 0,05, т.е. статистически значимых отличий между группами в среднем чеке нет. При этом все же можем выделить группу В, т.к. у нее прирост среднего чека почти 29% относительно группы А."
   ]
  },
  {
   "cell_type": "markdown",
   "metadata": {},
   "source": [
    "**Посчитаем статистическую значимость различий в среднем количестве заказов на посетителя между группами по «очищенным» данным**"
   ]
  },
  {
   "cell_type": "code",
   "execution_count": 36,
   "metadata": {},
   "outputs": [
    {
     "name": "stdout",
     "output_type": "stream",
     "text": [
      "Абсолютные потери(количество аномальных пользователей): 16 \n",
      " Относительные потери: (0.01644398766700925, 3)\n"
     ]
    }
   ],
   "source": [
    "usersWithManyOrders = pd.concat(\n",
    "    [\n",
    "        ordersByUsersA[ordersByUsersA['orders'] > np.percentile(ordersByUsers['orders'], 99)]['userId'],\n",
    "        ordersByUsersB[ordersByUsersB['orders'] > np.percentile(ordersByUsers['orders'], 99)]['userId'],\n",
    "    ],\n",
    "    axis=0,\n",
    ")\n",
    "usersWithExpensiveOrders = orders[orders['revenue'] > 53904]['visitorId']\n",
    "abnormalUsers = (\n",
    "    pd.concat([usersWithManyOrders, usersWithExpensiveOrders], axis=0)\n",
    "    .drop_duplicates()\n",
    "    .sort_values()\n",
    ")\n",
    "print('Абсолютные потери(количество аномальных пользователей):', len(abnormalUsers), '\\n',\n",
    "      'Относительные потери:', (len(abnormalUsers)/orders['visitorId'].nunique(),round(3)))"
   ]
  },
  {
   "cell_type": "code",
   "execution_count": 37,
   "metadata": {},
   "outputs": [
    {
     "name": "stdout",
     "output_type": "stream",
     "text": [
      "Значение P-value: 0.007 \n",
      " Относительная разница между группами: 0.189\n"
     ]
    }
   ],
   "source": [
    "sampleAFiltered = pd.concat(\n",
    "    [\n",
    "        ordersByUsersA[\n",
    "            np.logical_not(ordersByUsersA['userId'].isin(abnormalUsers))\n",
    "        ]['orders'],\n",
    "        pd.Series(\n",
    "            0,\n",
    "            index=np.arange(\n",
    "                visitors[visitors['group'] == 'A']['visitors'].sum() - len(ordersByUsersA['orders'])\n",
    "            ),\n",
    "            name='orders',\n",
    "        ),\n",
    "    ],\n",
    "    axis=0,\n",
    ")\n",
    "\n",
    "sampleBFiltered = pd.concat(\n",
    "    [\n",
    "        ordersByUsersB[\n",
    "            np.logical_not(ordersByUsersB['userId'].isin(abnormalUsers))\n",
    "        ]['orders'],\n",
    "        pd.Series(\n",
    "            0,\n",
    "            index=np.arange(\n",
    "                visitors[visitors['group'] == 'B']['visitors'].sum() - len(ordersByUsersB['orders'])\n",
    "            ),\n",
    "            name='orders',\n",
    "        ),\n",
    "    ],\n",
    "    axis=0,\n",
    ")\n",
    "print('Значение P-value:', (st.mannwhitneyu(sampleAFiltered, sampleBFiltered)[1]).round(3), '\\n',\n",
    "      'Относительная разница между группами:', (sampleBFiltered.mean()/sampleAFiltered.mean()-1).round(3))"
   ]
  },
  {
   "cell_type": "markdown",
   "metadata": {},
   "source": [
    "**Вывод:** как и до исключения выбросов, можем сказать, что статистическая значимость между группами есть - показатели группы В лучше показателей группы А."
   ]
  },
  {
   "cell_type": "markdown",
   "metadata": {},
   "source": [
    "**Посчитаем статистическую значимость различий в среднем чеке заказа между группами по «очищенным» данным**"
   ]
  },
  {
   "cell_type": "code",
   "execution_count": 38,
   "metadata": {},
   "outputs": [
    {
     "name": "stdout",
     "output_type": "stream",
     "text": [
      "Значение P-value: 0.788\n",
      "Относительная разница между группами: -0.032\n"
     ]
    }
   ],
   "source": [
    "print('Значение P-value:', (\n",
    "        (st.mannwhitneyu(\n",
    "            orders[\n",
    "                np.logical_and(\n",
    "                    orders['group'] == 'A',\n",
    "                    np.logical_not(orders['visitorId'].isin(abnormalUsers)),\n",
    "                )\n",
    "            ]['revenue'],\n",
    "            orders[\n",
    "                np.logical_and(\n",
    "                    orders['group'] == 'B',\n",
    "                    np.logical_not(orders['visitorId'].isin(abnormalUsers)),\n",
    "                )\n",
    "            ]['revenue'],\n",
    "        )[1].round(3))\n",
    "    )\n",
    ")\n",
    "\n",
    "print('Относительная разница между группами:', (\n",
    "        (orders[\n",
    "            np.logical_and(\n",
    "                orders['group'] == 'B',\n",
    "                np.logical_not(orders['visitorId'].isin(abnormalUsers)),\n",
    "            )\n",
    "        ]['revenue'].mean()\n",
    "        / orders[\n",
    "            np.logical_and(\n",
    "                orders['group'] == 'A',\n",
    "                np.logical_not(orders['visitorId'].isin(abnormalUsers)),\n",
    "            )\n",
    "        ]['revenue'].mean()\n",
    "        - 1).round(3)\n",
    "    )\n",
    ")"
   ]
  },
  {
   "cell_type": "markdown",
   "metadata": {},
   "source": [
    "**Вывод:** средний чек группы B на 3,2% ниже среднего чека группы A, в то время как по \"сырым\" данным, он был больше почти в 10 раз, что указывает на вляние дорогостоящих заказов."
   ]
  },
  {
   "cell_type": "markdown",
   "metadata": {},
   "source": [
    "## Общий вывод\n",
    "\n",
    "\n",
    "Была проведена предобработка данных - в датасетах изменены тип данных столбцов с датами на корректные. Также были удалены данные по заказам пользователей, попавших сразу в обе тестируемые группы (15% от всех данных).\n",
    "\n",
    "В ходе анализа результатов теста были услановлены предельные значения среднего кол-ва заказов (2) и суммы среднего чека (54 тыс р.).\n",
    "\n",
    "По результатам проведенного исследования предлагаю остановить тест и зафиксировать победу группы В. По кумулятивным метрикам по выручке, среднему чеку и конверсии лидировала группа B. После очистки разница между средними чеками стала минимальна, но это не даёт нам повода сомневаться в проведении теста и его результатах. До и после очистки данных, показатель конверсии группы B больше показателя группы A - сначала на 15% до и на 18% после очистки данных. Такая разница показателей конверсии между группами и до, и после очистки данных является статистически значимой. По среднему чеку статистически значимой разницы между группами как по \"сырым\" там и по \"очищенным\" данным нет."
   ]
  }
 ],
 "metadata": {
  "ExecuteTimeLog": [
   {
    "duration": 1520,
    "start_time": "2024-12-22T15:00:43.958Z"
   },
   {
    "duration": 9,
    "start_time": "2024-12-22T15:02:53.118Z"
   },
   {
    "duration": 3,
    "start_time": "2024-12-22T15:03:10.295Z"
   },
   {
    "duration": 3,
    "start_time": "2024-12-22T15:07:46.727Z"
   },
   {
    "duration": 1203,
    "start_time": "2024-12-22T15:17:13.583Z"
   },
   {
    "duration": 1161,
    "start_time": "2024-12-22T15:44:31.997Z"
   },
   {
    "duration": 224,
    "start_time": "2024-12-22T15:44:33.160Z"
   },
   {
    "duration": 21,
    "start_time": "2024-12-22T15:53:52.751Z"
   },
   {
    "duration": 14,
    "start_time": "2024-12-22T15:57:57.074Z"
   },
   {
    "duration": 15,
    "start_time": "2024-12-22T15:58:05.384Z"
   },
   {
    "duration": 8,
    "start_time": "2024-12-22T15:58:36.665Z"
   },
   {
    "duration": 18,
    "start_time": "2024-12-22T16:15:10.248Z"
   },
   {
    "duration": 3,
    "start_time": "2024-12-22T16:15:39.275Z"
   },
   {
    "duration": 115,
    "start_time": "2024-12-22T16:16:09.995Z"
   },
   {
    "duration": 13,
    "start_time": "2024-12-22T16:16:16.985Z"
   },
   {
    "duration": 12,
    "start_time": "2024-12-22T16:16:26.174Z"
   },
   {
    "duration": 6,
    "start_time": "2024-12-22T16:16:50.076Z"
   },
   {
    "duration": 15,
    "start_time": "2024-12-22T16:17:00.459Z"
   },
   {
    "duration": 20,
    "start_time": "2024-12-22T16:17:15.503Z"
   },
   {
    "duration": 5,
    "start_time": "2024-12-22T16:24:38.158Z"
   },
   {
    "duration": 7,
    "start_time": "2024-12-22T16:24:55.477Z"
   },
   {
    "duration": 15,
    "start_time": "2024-12-22T16:27:34.062Z"
   },
   {
    "duration": 15,
    "start_time": "2024-12-22T16:28:38.942Z"
   },
   {
    "duration": 4,
    "start_time": "2024-12-22T16:29:06.743Z"
   },
   {
    "duration": 7,
    "start_time": "2024-12-22T16:29:38.230Z"
   },
   {
    "duration": 16,
    "start_time": "2024-12-22T16:53:51.819Z"
   },
   {
    "duration": 15,
    "start_time": "2024-12-22T16:54:16.829Z"
   },
   {
    "duration": 15,
    "start_time": "2024-12-22T16:54:49.670Z"
   },
   {
    "duration": 13,
    "start_time": "2024-12-22T16:55:03.859Z"
   },
   {
    "duration": 14,
    "start_time": "2024-12-22T16:55:17.017Z"
   },
   {
    "duration": 11,
    "start_time": "2024-12-22T16:56:41.306Z"
   },
   {
    "duration": 16,
    "start_time": "2024-12-22T16:57:23.988Z"
   },
   {
    "duration": 11,
    "start_time": "2024-12-22T16:57:37.444Z"
   },
   {
    "duration": 67,
    "start_time": "2024-12-22T16:59:13.333Z"
   },
   {
    "duration": 5,
    "start_time": "2024-12-22T17:08:19.029Z"
   },
   {
    "duration": 80,
    "start_time": "2024-12-22T17:08:24.296Z"
   },
   {
    "duration": 8,
    "start_time": "2024-12-22T17:10:39.218Z"
   },
   {
    "duration": 8,
    "start_time": "2024-12-22T17:10:57.296Z"
   },
   {
    "duration": 10,
    "start_time": "2024-12-22T17:12:34.910Z"
   },
   {
    "duration": 9,
    "start_time": "2024-12-22T17:12:39.926Z"
   },
   {
    "duration": 10,
    "start_time": "2024-12-22T17:12:46.661Z"
   },
   {
    "duration": 9,
    "start_time": "2024-12-22T17:13:26.674Z"
   },
   {
    "duration": 9,
    "start_time": "2024-12-22T17:13:31.298Z"
   },
   {
    "duration": 9,
    "start_time": "2024-12-22T17:14:02.967Z"
   },
   {
    "duration": 9,
    "start_time": "2024-12-22T17:14:10.317Z"
   },
   {
    "duration": 9,
    "start_time": "2024-12-22T17:14:20.213Z"
   },
   {
    "duration": 1228,
    "start_time": "2024-12-22T17:14:29.860Z"
   },
   {
    "duration": 77,
    "start_time": "2024-12-22T17:14:31.090Z"
   },
   {
    "duration": 22,
    "start_time": "2024-12-22T17:14:31.169Z"
   },
   {
    "duration": 7,
    "start_time": "2024-12-22T17:14:31.193Z"
   },
   {
    "duration": 25,
    "start_time": "2024-12-22T17:14:31.202Z"
   },
   {
    "duration": 17,
    "start_time": "2024-12-22T17:14:31.229Z"
   },
   {
    "duration": 4,
    "start_time": "2024-12-22T17:14:31.248Z"
   },
   {
    "duration": 32,
    "start_time": "2024-12-22T17:14:31.253Z"
   },
   {
    "duration": 19,
    "start_time": "2024-12-22T17:14:31.287Z"
   },
   {
    "duration": 51,
    "start_time": "2024-12-22T17:14:31.308Z"
   },
   {
    "duration": 5,
    "start_time": "2024-12-22T17:14:31.360Z"
   },
   {
    "duration": 32,
    "start_time": "2024-12-22T17:14:31.366Z"
   },
   {
    "duration": 31,
    "start_time": "2024-12-22T17:14:31.399Z"
   },
   {
    "duration": 79,
    "start_time": "2024-12-22T17:14:31.433Z"
   },
   {
    "duration": 112,
    "start_time": "2024-12-22T17:14:31.514Z"
   },
   {
    "duration": 10,
    "start_time": "2024-12-22T17:17:56.602Z"
   },
   {
    "duration": 18,
    "start_time": "2024-12-22T17:19:13.332Z"
   },
   {
    "duration": 12,
    "start_time": "2024-12-22T17:35:53.052Z"
   },
   {
    "duration": 11,
    "start_time": "2024-12-22T17:36:21.778Z"
   },
   {
    "duration": 1236,
    "start_time": "2024-12-22T17:36:51.331Z"
   },
   {
    "duration": 76,
    "start_time": "2024-12-22T17:36:52.570Z"
   },
   {
    "duration": 22,
    "start_time": "2024-12-22T17:36:52.648Z"
   },
   {
    "duration": 7,
    "start_time": "2024-12-22T17:36:52.672Z"
   },
   {
    "duration": 35,
    "start_time": "2024-12-22T17:36:52.681Z"
   },
   {
    "duration": 34,
    "start_time": "2024-12-22T17:36:52.718Z"
   },
   {
    "duration": 5,
    "start_time": "2024-12-22T17:36:52.754Z"
   },
   {
    "duration": 23,
    "start_time": "2024-12-22T17:36:52.761Z"
   },
   {
    "duration": 15,
    "start_time": "2024-12-22T17:36:52.787Z"
   },
   {
    "duration": 30,
    "start_time": "2024-12-22T17:36:52.806Z"
   },
   {
    "duration": 4,
    "start_time": "2024-12-22T17:36:52.839Z"
   },
   {
    "duration": 9,
    "start_time": "2024-12-22T17:36:52.845Z"
   },
   {
    "duration": 141,
    "start_time": "2024-12-22T17:36:52.855Z"
   },
   {
    "duration": 0,
    "start_time": "2024-12-22T17:36:52.998Z"
   },
   {
    "duration": 15,
    "start_time": "2024-12-22T17:38:52.546Z"
   },
   {
    "duration": 10,
    "start_time": "2024-12-22T17:39:28.974Z"
   },
   {
    "duration": 10,
    "start_time": "2024-12-22T17:43:26.088Z"
   },
   {
    "duration": 908,
    "start_time": "2024-12-22T17:43:41.102Z"
   },
   {
    "duration": 12,
    "start_time": "2024-12-22T17:43:59.650Z"
   },
   {
    "duration": 752,
    "start_time": "2024-12-22T17:44:27.164Z"
   },
   {
    "duration": 11,
    "start_time": "2024-12-22T17:44:52.170Z"
   },
   {
    "duration": 4,
    "start_time": "2024-12-22T17:45:06.992Z"
   },
   {
    "duration": 7,
    "start_time": "2024-12-22T18:13:36.755Z"
   },
   {
    "duration": 11,
    "start_time": "2024-12-22T18:18:49.447Z"
   },
   {
    "duration": 8,
    "start_time": "2024-12-22T18:18:56.512Z"
   },
   {
    "duration": 14,
    "start_time": "2024-12-22T18:26:11.877Z"
   },
   {
    "duration": 9,
    "start_time": "2024-12-22T18:26:25.235Z"
   },
   {
    "duration": 1363,
    "start_time": "2024-12-22T18:31:37.113Z"
   },
   {
    "duration": 1557,
    "start_time": "2024-12-22T18:33:34.300Z"
   },
   {
    "duration": 14,
    "start_time": "2024-12-22T18:33:51.042Z"
   },
   {
    "duration": 13,
    "start_time": "2024-12-22T18:34:24.994Z"
   },
   {
    "duration": 17,
    "start_time": "2024-12-22T18:35:05.896Z"
   },
   {
    "duration": 8,
    "start_time": "2024-12-22T18:35:22.818Z"
   },
   {
    "duration": 14,
    "start_time": "2024-12-22T18:35:48.753Z"
   },
   {
    "duration": 15,
    "start_time": "2024-12-22T18:36:00.060Z"
   },
   {
    "duration": 9,
    "start_time": "2024-12-22T18:36:54.699Z"
   },
   {
    "duration": 15,
    "start_time": "2024-12-22T18:38:16.853Z"
   },
   {
    "duration": 8,
    "start_time": "2024-12-22T18:38:21.641Z"
   },
   {
    "duration": 9,
    "start_time": "2024-12-22T18:41:27.411Z"
   },
   {
    "duration": 8,
    "start_time": "2024-12-22T18:43:39.437Z"
   },
   {
    "duration": 10,
    "start_time": "2024-12-22T18:46:50.793Z"
   },
   {
    "duration": 13,
    "start_time": "2024-12-22T18:48:27.486Z"
   },
   {
    "duration": 12,
    "start_time": "2024-12-22T18:48:38.607Z"
   },
   {
    "duration": 13,
    "start_time": "2024-12-22T18:49:06.394Z"
   },
   {
    "duration": 14,
    "start_time": "2024-12-22T18:49:44.969Z"
   },
   {
    "duration": 12,
    "start_time": "2024-12-22T18:49:51.072Z"
   },
   {
    "duration": 22,
    "start_time": "2024-12-22T19:00:37.277Z"
   },
   {
    "duration": 6,
    "start_time": "2024-12-22T19:01:50.273Z"
   },
   {
    "duration": 22,
    "start_time": "2024-12-22T19:02:08.360Z"
   },
   {
    "duration": 22,
    "start_time": "2024-12-22T19:15:21.435Z"
   },
   {
    "duration": 21,
    "start_time": "2024-12-22T19:15:30.459Z"
   },
   {
    "duration": 10,
    "start_time": "2024-12-22T20:16:44.017Z"
   },
   {
    "duration": 8,
    "start_time": "2024-12-22T20:16:58.329Z"
   },
   {
    "duration": 8,
    "start_time": "2024-12-22T20:23:36.144Z"
   },
   {
    "duration": 1220,
    "start_time": "2024-12-22T20:24:05.749Z"
   },
   {
    "duration": 75,
    "start_time": "2024-12-22T20:24:06.971Z"
   },
   {
    "duration": 20,
    "start_time": "2024-12-22T20:24:07.048Z"
   },
   {
    "duration": 24,
    "start_time": "2024-12-22T20:24:07.070Z"
   },
   {
    "duration": 34,
    "start_time": "2024-12-22T20:24:07.097Z"
   },
   {
    "duration": 34,
    "start_time": "2024-12-22T20:24:07.133Z"
   },
   {
    "duration": 22,
    "start_time": "2024-12-22T20:24:07.169Z"
   },
   {
    "duration": 35,
    "start_time": "2024-12-22T20:24:07.192Z"
   },
   {
    "duration": 35,
    "start_time": "2024-12-22T20:24:07.228Z"
   },
   {
    "duration": 16,
    "start_time": "2024-12-22T20:24:07.265Z"
   },
   {
    "duration": 16,
    "start_time": "2024-12-22T20:24:07.282Z"
   },
   {
    "duration": 20,
    "start_time": "2024-12-22T20:24:07.300Z"
   },
   {
    "duration": 19,
    "start_time": "2024-12-22T20:24:07.322Z"
   },
   {
    "duration": 19,
    "start_time": "2024-12-22T20:24:07.344Z"
   },
   {
    "duration": 42,
    "start_time": "2024-12-22T20:24:07.364Z"
   },
   {
    "duration": 8,
    "start_time": "2024-12-22T20:24:07.408Z"
   },
   {
    "duration": 1539,
    "start_time": "2024-12-22T20:24:07.417Z"
   },
   {
    "duration": 10,
    "start_time": "2024-12-22T20:25:19.874Z"
   },
   {
    "duration": 10,
    "start_time": "2024-12-22T20:25:29.814Z"
   },
   {
    "duration": 10,
    "start_time": "2024-12-22T20:26:28.029Z"
   },
   {
    "duration": 16,
    "start_time": "2024-12-22T20:26:35.116Z"
   },
   {
    "duration": 12,
    "start_time": "2024-12-22T20:26:40.761Z"
   },
   {
    "duration": 94,
    "start_time": "2024-12-22T20:26:55.598Z"
   },
   {
    "duration": 10,
    "start_time": "2024-12-22T20:27:13.281Z"
   },
   {
    "duration": 10,
    "start_time": "2024-12-22T20:27:35.675Z"
   },
   {
    "duration": 11,
    "start_time": "2024-12-22T20:28:12.321Z"
   },
   {
    "duration": 7,
    "start_time": "2024-12-22T20:29:33.324Z"
   },
   {
    "duration": 1137,
    "start_time": "2024-12-22T20:29:52.106Z"
   },
   {
    "duration": 1073,
    "start_time": "2024-12-22T20:30:36.406Z"
   },
   {
    "duration": 1024,
    "start_time": "2024-12-22T20:30:41.166Z"
   },
   {
    "duration": 1064,
    "start_time": "2024-12-22T20:31:21.261Z"
   },
   {
    "duration": 1455,
    "start_time": "2024-12-22T20:31:43.518Z"
   },
   {
    "duration": 1055,
    "start_time": "2024-12-22T20:32:39.904Z"
   },
   {
    "duration": 1047,
    "start_time": "2024-12-22T20:33:34.583Z"
   },
   {
    "duration": 1082,
    "start_time": "2024-12-22T20:33:52.046Z"
   },
   {
    "duration": 1006,
    "start_time": "2024-12-22T20:34:07.246Z"
   },
   {
    "duration": 1241,
    "start_time": "2024-12-22T20:34:23.746Z"
   },
   {
    "duration": 1194,
    "start_time": "2024-12-22T20:34:57.976Z"
   },
   {
    "duration": 998,
    "start_time": "2024-12-22T20:35:02.045Z"
   },
   {
    "duration": 1248,
    "start_time": "2024-12-22T20:35:13.424Z"
   },
   {
    "duration": 76,
    "start_time": "2024-12-22T20:35:14.675Z"
   },
   {
    "duration": 19,
    "start_time": "2024-12-22T20:35:14.753Z"
   },
   {
    "duration": 8,
    "start_time": "2024-12-22T20:35:14.774Z"
   },
   {
    "duration": 17,
    "start_time": "2024-12-22T20:35:14.784Z"
   },
   {
    "duration": 15,
    "start_time": "2024-12-22T20:35:14.803Z"
   },
   {
    "duration": 20,
    "start_time": "2024-12-22T20:35:14.819Z"
   },
   {
    "duration": 14,
    "start_time": "2024-12-22T20:35:14.840Z"
   },
   {
    "duration": 6,
    "start_time": "2024-12-22T20:35:14.856Z"
   },
   {
    "duration": 17,
    "start_time": "2024-12-22T20:35:14.864Z"
   },
   {
    "duration": 16,
    "start_time": "2024-12-22T20:35:14.883Z"
   },
   {
    "duration": 4,
    "start_time": "2024-12-22T20:35:14.900Z"
   },
   {
    "duration": 7,
    "start_time": "2024-12-22T20:35:14.930Z"
   },
   {
    "duration": 13,
    "start_time": "2024-12-22T20:35:14.939Z"
   },
   {
    "duration": 18,
    "start_time": "2024-12-22T20:35:14.954Z"
   },
   {
    "duration": 48,
    "start_time": "2024-12-22T20:35:14.974Z"
   },
   {
    "duration": 27,
    "start_time": "2024-12-22T20:35:15.024Z"
   },
   {
    "duration": 12,
    "start_time": "2024-12-22T20:38:08.060Z"
   },
   {
    "duration": 14,
    "start_time": "2024-12-22T20:38:26.235Z"
   },
   {
    "duration": 9,
    "start_time": "2024-12-22T20:44:27.136Z"
   },
   {
    "duration": 10,
    "start_time": "2024-12-22T20:46:55.032Z"
   },
   {
    "duration": 1253,
    "start_time": "2024-12-22T20:47:59.423Z"
   },
   {
    "duration": 76,
    "start_time": "2024-12-22T20:48:00.678Z"
   },
   {
    "duration": 19,
    "start_time": "2024-12-22T20:48:00.756Z"
   },
   {
    "duration": 22,
    "start_time": "2024-12-22T20:48:00.777Z"
   },
   {
    "duration": 40,
    "start_time": "2024-12-22T20:48:00.801Z"
   },
   {
    "duration": 50,
    "start_time": "2024-12-22T20:48:00.842Z"
   },
   {
    "duration": 19,
    "start_time": "2024-12-22T20:48:00.893Z"
   },
   {
    "duration": 32,
    "start_time": "2024-12-22T20:48:00.913Z"
   },
   {
    "duration": 24,
    "start_time": "2024-12-22T20:48:00.946Z"
   },
   {
    "duration": 20,
    "start_time": "2024-12-22T20:48:00.972Z"
   },
   {
    "duration": 34,
    "start_time": "2024-12-22T20:48:00.993Z"
   },
   {
    "duration": 28,
    "start_time": "2024-12-22T20:48:01.029Z"
   },
   {
    "duration": 30,
    "start_time": "2024-12-22T20:48:01.058Z"
   },
   {
    "duration": 27,
    "start_time": "2024-12-22T20:48:01.091Z"
   },
   {
    "duration": 46,
    "start_time": "2024-12-22T20:48:01.120Z"
   },
   {
    "duration": 11,
    "start_time": "2024-12-22T20:48:01.168Z"
   },
   {
    "duration": 10,
    "start_time": "2024-12-22T20:48:01.181Z"
   },
   {
    "duration": 20,
    "start_time": "2024-12-22T20:48:01.193Z"
   },
   {
    "duration": 45,
    "start_time": "2024-12-22T20:48:01.215Z"
   },
   {
    "duration": 1622,
    "start_time": "2024-12-22T20:52:51.539Z"
   },
   {
    "duration": 10,
    "start_time": "2024-12-22T20:53:26.992Z"
   },
   {
    "duration": 9,
    "start_time": "2024-12-22T20:54:09.855Z"
   },
   {
    "duration": 5,
    "start_time": "2024-12-22T20:54:34.295Z"
   },
   {
    "duration": 1408,
    "start_time": "2024-12-22T20:56:45.725Z"
   },
   {
    "duration": 7,
    "start_time": "2024-12-22T20:59:30.041Z"
   },
   {
    "duration": 5,
    "start_time": "2024-12-22T20:59:49.308Z"
   },
   {
    "duration": 1486,
    "start_time": "2024-12-22T21:00:29.209Z"
   },
   {
    "duration": 3,
    "start_time": "2024-12-22T21:00:53.147Z"
   },
   {
    "duration": 259,
    "start_time": "2024-12-22T21:14:52.791Z"
   },
   {
    "duration": 266,
    "start_time": "2024-12-22T21:15:24.709Z"
   },
   {
    "duration": 1373,
    "start_time": "2024-12-22T21:19:43.494Z"
   },
   {
    "duration": 4,
    "start_time": "2024-12-22T21:20:00.139Z"
   },
   {
    "duration": 4,
    "start_time": "2024-12-22T21:20:48.284Z"
   },
   {
    "duration": 268,
    "start_time": "2024-12-22T21:24:43.069Z"
   },
   {
    "duration": 284,
    "start_time": "2024-12-22T21:25:47.510Z"
   },
   {
    "duration": 308,
    "start_time": "2024-12-22T21:26:49.859Z"
   },
   {
    "duration": 264,
    "start_time": "2024-12-22T21:27:34.098Z"
   },
   {
    "duration": 213,
    "start_time": "2024-12-22T21:27:51.426Z"
   },
   {
    "duration": 278,
    "start_time": "2024-12-22T21:28:03.728Z"
   },
   {
    "duration": 274,
    "start_time": "2024-12-22T21:28:22.199Z"
   },
   {
    "duration": 273,
    "start_time": "2024-12-22T21:30:12.461Z"
   },
   {
    "duration": 9,
    "start_time": "2024-12-22T21:30:52.323Z"
   },
   {
    "duration": 10,
    "start_time": "2024-12-22T21:33:19.837Z"
   },
   {
    "duration": 9,
    "start_time": "2024-12-22T21:33:27.787Z"
   },
   {
    "duration": 8,
    "start_time": "2024-12-22T21:39:25.012Z"
   },
   {
    "duration": 10,
    "start_time": "2024-12-22T21:46:34.195Z"
   },
   {
    "duration": 14,
    "start_time": "2024-12-22T21:47:02.620Z"
   },
   {
    "duration": 9,
    "start_time": "2024-12-22T21:47:09.195Z"
   },
   {
    "duration": 8,
    "start_time": "2024-12-22T21:47:34.066Z"
   },
   {
    "duration": 8,
    "start_time": "2024-12-22T21:47:52.578Z"
   },
   {
    "duration": 9,
    "start_time": "2024-12-22T21:48:03.921Z"
   },
   {
    "duration": 8,
    "start_time": "2024-12-22T21:48:24.006Z"
   },
   {
    "duration": 92,
    "start_time": "2024-12-22T21:49:12.819Z"
   },
   {
    "duration": 81,
    "start_time": "2024-12-22T21:49:26.811Z"
   },
   {
    "duration": 116,
    "start_time": "2024-12-22T21:49:42.373Z"
   },
   {
    "duration": 101,
    "start_time": "2024-12-22T21:49:49.353Z"
   },
   {
    "duration": 81,
    "start_time": "2024-12-22T21:50:14.126Z"
   },
   {
    "duration": 96,
    "start_time": "2024-12-22T21:50:21.344Z"
   },
   {
    "duration": 78,
    "start_time": "2024-12-22T21:50:24.772Z"
   },
   {
    "duration": 8,
    "start_time": "2024-12-22T21:51:02.641Z"
   },
   {
    "duration": 8,
    "start_time": "2024-12-22T21:53:21.057Z"
   },
   {
    "duration": 10,
    "start_time": "2024-12-22T22:02:16.394Z"
   },
   {
    "duration": 9,
    "start_time": "2024-12-22T22:02:23.562Z"
   },
   {
    "duration": 1206,
    "start_time": "2024-12-22T22:02:30.863Z"
   },
   {
    "duration": 76,
    "start_time": "2024-12-22T22:02:32.071Z"
   },
   {
    "duration": 20,
    "start_time": "2024-12-22T22:02:32.148Z"
   },
   {
    "duration": 15,
    "start_time": "2024-12-22T22:02:32.169Z"
   },
   {
    "duration": 10,
    "start_time": "2024-12-22T22:02:32.186Z"
   },
   {
    "duration": 34,
    "start_time": "2024-12-22T22:02:32.197Z"
   },
   {
    "duration": 36,
    "start_time": "2024-12-22T22:02:32.232Z"
   },
   {
    "duration": 16,
    "start_time": "2024-12-22T22:02:32.270Z"
   },
   {
    "duration": 41,
    "start_time": "2024-12-22T22:02:32.287Z"
   },
   {
    "duration": 15,
    "start_time": "2024-12-22T22:02:32.329Z"
   },
   {
    "duration": 38,
    "start_time": "2024-12-22T22:02:32.346Z"
   },
   {
    "duration": 12,
    "start_time": "2024-12-22T22:02:32.385Z"
   },
   {
    "duration": 9,
    "start_time": "2024-12-22T22:02:32.399Z"
   },
   {
    "duration": 23,
    "start_time": "2024-12-22T22:02:32.411Z"
   },
   {
    "duration": 35,
    "start_time": "2024-12-22T22:02:32.436Z"
   },
   {
    "duration": 14,
    "start_time": "2024-12-22T22:02:32.473Z"
   },
   {
    "duration": 13,
    "start_time": "2024-12-22T22:02:32.489Z"
   },
   {
    "duration": 13,
    "start_time": "2024-12-22T22:02:32.504Z"
   },
   {
    "duration": 13,
    "start_time": "2024-12-22T22:02:32.518Z"
   },
   {
    "duration": 20,
    "start_time": "2024-12-22T22:02:32.533Z"
   },
   {
    "duration": 55,
    "start_time": "2024-12-22T22:02:32.554Z"
   },
   {
    "duration": 24,
    "start_time": "2024-12-22T22:02:32.611Z"
   },
   {
    "duration": 43,
    "start_time": "2024-12-22T22:02:32.637Z"
   },
   {
    "duration": 309,
    "start_time": "2024-12-22T22:04:18.285Z"
   },
   {
    "duration": 280,
    "start_time": "2024-12-22T22:07:20.309Z"
   },
   {
    "duration": 228,
    "start_time": "2024-12-22T22:07:56.961Z"
   },
   {
    "duration": 231,
    "start_time": "2024-12-22T22:08:25.644Z"
   },
   {
    "duration": 233,
    "start_time": "2024-12-22T22:13:37.443Z"
   },
   {
    "duration": 305,
    "start_time": "2024-12-22T22:19:18.887Z"
   },
   {
    "duration": 246,
    "start_time": "2024-12-22T22:22:41.454Z"
   },
   {
    "duration": 365,
    "start_time": "2024-12-22T22:31:12.046Z"
   },
   {
    "duration": 90,
    "start_time": "2024-12-22T22:37:20.852Z"
   },
   {
    "duration": 258,
    "start_time": "2024-12-22T22:37:29.258Z"
   },
   {
    "duration": 5,
    "start_time": "2024-12-22T22:42:47.416Z"
   },
   {
    "duration": 5,
    "start_time": "2024-12-22T22:42:56.030Z"
   },
   {
    "duration": 174,
    "start_time": "2024-12-22T22:44:31.913Z"
   },
   {
    "duration": 3,
    "start_time": "2024-12-22T22:47:59.734Z"
   },
   {
    "duration": 205,
    "start_time": "2024-12-22T22:49:10.677Z"
   },
   {
    "duration": 5,
    "start_time": "2024-12-22T22:51:02.407Z"
   },
   {
    "duration": 343,
    "start_time": "2024-12-22T22:55:58.843Z"
   },
   {
    "duration": 260,
    "start_time": "2024-12-22T22:56:25.513Z"
   },
   {
    "duration": 89,
    "start_time": "2024-12-22T22:57:37.981Z"
   },
   {
    "duration": 254,
    "start_time": "2024-12-22T22:57:53.151Z"
   },
   {
    "duration": 261,
    "start_time": "2024-12-22T22:58:10.059Z"
   },
   {
    "duration": 256,
    "start_time": "2024-12-22T22:58:42.166Z"
   },
   {
    "duration": 258,
    "start_time": "2024-12-22T23:00:05.998Z"
   },
   {
    "duration": 280,
    "start_time": "2024-12-22T23:02:01.019Z"
   },
   {
    "duration": 266,
    "start_time": "2024-12-22T23:02:26.811Z"
   },
   {
    "duration": 275,
    "start_time": "2024-12-22T23:02:58.366Z"
   },
   {
    "duration": 11,
    "start_time": "2024-12-22T23:06:41.108Z"
   },
   {
    "duration": 10,
    "start_time": "2024-12-22T23:06:53.798Z"
   },
   {
    "duration": 10,
    "start_time": "2024-12-22T23:07:36.837Z"
   },
   {
    "duration": 13,
    "start_time": "2024-12-22T23:11:08.383Z"
   },
   {
    "duration": 11,
    "start_time": "2024-12-22T23:11:17.811Z"
   },
   {
    "duration": 12,
    "start_time": "2024-12-22T23:11:28.837Z"
   },
   {
    "duration": 9,
    "start_time": "2024-12-22T23:11:33.556Z"
   },
   {
    "duration": 86,
    "start_time": "2024-12-22T23:13:11.834Z"
   },
   {
    "duration": 16,
    "start_time": "2024-12-22T23:13:30.811Z"
   },
   {
    "duration": 33,
    "start_time": "2024-12-22T23:13:37.159Z"
   },
   {
    "duration": 11,
    "start_time": "2024-12-22T23:16:18.912Z"
   },
   {
    "duration": 15,
    "start_time": "2024-12-22T23:16:30.336Z"
   },
   {
    "duration": 17,
    "start_time": "2024-12-22T23:17:24.662Z"
   },
   {
    "duration": 1215,
    "start_time": "2025-01-20T12:22:26.350Z"
   },
   {
    "duration": 227,
    "start_time": "2025-01-20T12:22:27.567Z"
   },
   {
    "duration": 20,
    "start_time": "2025-01-20T12:22:27.796Z"
   },
   {
    "duration": 31,
    "start_time": "2025-01-20T12:22:27.818Z"
   },
   {
    "duration": 22,
    "start_time": "2025-01-20T12:22:27.851Z"
   },
   {
    "duration": 14,
    "start_time": "2025-01-20T12:22:27.875Z"
   },
   {
    "duration": 18,
    "start_time": "2025-01-20T12:22:27.891Z"
   },
   {
    "duration": 18,
    "start_time": "2025-01-20T12:22:27.910Z"
   },
   {
    "duration": 7,
    "start_time": "2025-01-20T12:22:27.930Z"
   },
   {
    "duration": 14,
    "start_time": "2025-01-20T12:22:27.939Z"
   },
   {
    "duration": 45,
    "start_time": "2025-01-20T12:22:27.955Z"
   },
   {
    "duration": 5,
    "start_time": "2025-01-20T12:22:28.001Z"
   },
   {
    "duration": 7,
    "start_time": "2025-01-20T12:22:28.007Z"
   },
   {
    "duration": 18,
    "start_time": "2025-01-20T12:22:28.015Z"
   },
   {
    "duration": 17,
    "start_time": "2025-01-20T12:22:28.037Z"
   },
   {
    "duration": 5,
    "start_time": "2025-01-20T12:22:28.055Z"
   },
   {
    "duration": 15,
    "start_time": "2025-01-20T12:22:28.061Z"
   },
   {
    "duration": 34,
    "start_time": "2025-01-20T12:22:28.078Z"
   },
   {
    "duration": 12,
    "start_time": "2025-01-20T12:22:28.113Z"
   },
   {
    "duration": 17,
    "start_time": "2025-01-20T12:22:28.127Z"
   },
   {
    "duration": 14,
    "start_time": "2025-01-20T12:22:28.146Z"
   },
   {
    "duration": 12,
    "start_time": "2025-01-20T12:22:28.163Z"
   },
   {
    "duration": 318,
    "start_time": "2025-01-20T12:22:28.177Z"
   },
   {
    "duration": 317,
    "start_time": "2025-01-20T12:22:28.496Z"
   },
   {
    "duration": 248,
    "start_time": "2025-01-20T12:22:28.815Z"
   },
   {
    "duration": 313,
    "start_time": "2025-01-20T12:22:29.065Z"
   },
   {
    "duration": 259,
    "start_time": "2025-01-20T12:22:29.380Z"
   },
   {
    "duration": 362,
    "start_time": "2025-01-20T12:22:29.643Z"
   },
   {
    "duration": 199,
    "start_time": "2025-01-20T12:22:30.008Z"
   },
   {
    "duration": 7,
    "start_time": "2025-01-20T12:22:30.209Z"
   },
   {
    "duration": 199,
    "start_time": "2025-01-20T12:22:30.217Z"
   },
   {
    "duration": 272,
    "start_time": "2025-01-20T12:22:30.419Z"
   },
   {
    "duration": 6,
    "start_time": "2025-01-20T12:22:30.694Z"
   },
   {
    "duration": 344,
    "start_time": "2025-01-20T12:22:30.702Z"
   },
   {
    "duration": 11,
    "start_time": "2025-01-20T12:22:31.047Z"
   },
   {
    "duration": 55,
    "start_time": "2025-01-20T12:22:31.059Z"
   },
   {
    "duration": 32,
    "start_time": "2025-01-20T12:22:31.116Z"
   },
   {
    "duration": 20,
    "start_time": "2025-01-20T12:22:31.149Z"
   },
   {
    "duration": 4136,
    "start_time": "2025-01-31T20:56:06.726Z"
   },
   {
    "duration": 66,
    "start_time": "2025-01-31T20:56:10.864Z"
   },
   {
    "duration": 20,
    "start_time": "2025-01-31T20:56:10.932Z"
   },
   {
    "duration": 7,
    "start_time": "2025-01-31T20:56:10.954Z"
   },
   {
    "duration": 6,
    "start_time": "2025-01-31T20:56:10.964Z"
   },
   {
    "duration": 15,
    "start_time": "2025-01-31T20:56:10.971Z"
   },
   {
    "duration": 30,
    "start_time": "2025-01-31T20:56:10.988Z"
   },
   {
    "duration": 3,
    "start_time": "2025-01-31T20:56:11.020Z"
   },
   {
    "duration": 6,
    "start_time": "2025-01-31T20:56:11.025Z"
   },
   {
    "duration": 12,
    "start_time": "2025-01-31T20:56:11.033Z"
   },
   {
    "duration": 16,
    "start_time": "2025-01-31T20:56:11.047Z"
   },
   {
    "duration": 4,
    "start_time": "2025-01-31T20:56:11.064Z"
   },
   {
    "duration": 43,
    "start_time": "2025-01-31T20:56:11.069Z"
   },
   {
    "duration": 12,
    "start_time": "2025-01-31T20:56:11.115Z"
   },
   {
    "duration": 17,
    "start_time": "2025-01-31T20:56:11.128Z"
   },
   {
    "duration": 5,
    "start_time": "2025-01-31T20:56:11.146Z"
   },
   {
    "duration": 11,
    "start_time": "2025-01-31T20:56:11.152Z"
   },
   {
    "duration": 46,
    "start_time": "2025-01-31T20:56:11.165Z"
   },
   {
    "duration": 4,
    "start_time": "2025-01-31T20:56:11.213Z"
   },
   {
    "duration": 7,
    "start_time": "2025-01-31T20:56:11.219Z"
   },
   {
    "duration": 8,
    "start_time": "2025-01-31T20:56:11.227Z"
   },
   {
    "duration": 7,
    "start_time": "2025-01-31T20:56:11.237Z"
   },
   {
    "duration": 303,
    "start_time": "2025-01-31T20:56:11.246Z"
   },
   {
    "duration": 307,
    "start_time": "2025-01-31T20:56:11.551Z"
   },
   {
    "duration": 245,
    "start_time": "2025-01-31T20:56:11.859Z"
   },
   {
    "duration": 332,
    "start_time": "2025-01-31T20:56:12.106Z"
   },
   {
    "duration": 2087,
    "start_time": "2025-01-31T20:56:26.031Z"
   },
   {
    "duration": 67,
    "start_time": "2025-01-31T20:56:28.120Z"
   },
   {
    "duration": 18,
    "start_time": "2025-01-31T20:56:28.188Z"
   },
   {
    "duration": 7,
    "start_time": "2025-01-31T20:56:28.208Z"
   },
   {
    "duration": 6,
    "start_time": "2025-01-31T20:56:28.217Z"
   },
   {
    "duration": 15,
    "start_time": "2025-01-31T20:56:28.224Z"
   },
   {
    "duration": 16,
    "start_time": "2025-01-31T20:56:28.240Z"
   },
   {
    "duration": 3,
    "start_time": "2025-01-31T20:56:28.258Z"
   },
   {
    "duration": 5,
    "start_time": "2025-01-31T20:56:28.263Z"
   },
   {
    "duration": 51,
    "start_time": "2025-01-31T20:56:28.271Z"
   },
   {
    "duration": 26,
    "start_time": "2025-01-31T20:56:28.323Z"
   },
   {
    "duration": 4,
    "start_time": "2025-01-31T20:56:28.350Z"
   },
   {
    "duration": 11,
    "start_time": "2025-01-31T20:56:28.355Z"
   },
   {
    "duration": 12,
    "start_time": "2025-01-31T20:56:28.368Z"
   },
   {
    "duration": 38,
    "start_time": "2025-01-31T20:56:28.381Z"
   },
   {
    "duration": 5,
    "start_time": "2025-01-31T20:56:28.420Z"
   },
   {
    "duration": 12,
    "start_time": "2025-01-31T20:56:28.426Z"
   },
   {
    "duration": 12,
    "start_time": "2025-01-31T20:56:28.439Z"
   },
   {
    "duration": 5,
    "start_time": "2025-01-31T20:56:28.452Z"
   },
   {
    "duration": 4,
    "start_time": "2025-01-31T20:56:28.458Z"
   },
   {
    "duration": 8,
    "start_time": "2025-01-31T20:56:28.463Z"
   },
   {
    "duration": 9,
    "start_time": "2025-01-31T20:56:28.509Z"
   },
   {
    "duration": 276,
    "start_time": "2025-01-31T20:56:28.519Z"
   },
   {
    "duration": 328,
    "start_time": "2025-01-31T20:56:28.797Z"
   },
   {
    "duration": 248,
    "start_time": "2025-01-31T20:56:29.127Z"
   },
   {
    "duration": 371,
    "start_time": "2025-01-31T20:56:29.376Z"
   },
   {
    "duration": 252,
    "start_time": "2025-01-31T20:56:29.749Z"
   },
   {
    "duration": 384,
    "start_time": "2025-01-31T20:56:30.005Z"
   },
   {
    "duration": 186,
    "start_time": "2025-01-31T20:56:30.391Z"
   },
   {
    "duration": 4,
    "start_time": "2025-01-31T20:56:30.579Z"
   },
   {
    "duration": 179,
    "start_time": "2025-01-31T20:56:30.584Z"
   },
   {
    "duration": 252,
    "start_time": "2025-01-31T20:56:30.764Z"
   },
   {
    "duration": 5,
    "start_time": "2025-01-31T20:56:31.018Z"
   },
   {
    "duration": 267,
    "start_time": "2025-01-31T20:56:31.024Z"
   },
   {
    "duration": 19,
    "start_time": "2025-01-31T20:56:31.293Z"
   },
   {
    "duration": 21,
    "start_time": "2025-01-31T20:56:31.314Z"
   },
   {
    "duration": 31,
    "start_time": "2025-01-31T20:56:31.336Z"
   },
   {
    "duration": 14,
    "start_time": "2025-01-31T20:56:31.368Z"
   },
   {
    "duration": 1917,
    "start_time": "2025-02-06T23:19:24.420Z"
   },
   {
    "duration": 65,
    "start_time": "2025-02-06T23:19:26.339Z"
   },
   {
    "duration": 21,
    "start_time": "2025-02-06T23:19:26.406Z"
   },
   {
    "duration": 9,
    "start_time": "2025-02-06T23:19:26.428Z"
   },
   {
    "duration": 8,
    "start_time": "2025-02-06T23:19:26.439Z"
   },
   {
    "duration": 24,
    "start_time": "2025-02-06T23:19:26.448Z"
   },
   {
    "duration": 20,
    "start_time": "2025-02-06T23:19:26.473Z"
   },
   {
    "duration": 4,
    "start_time": "2025-02-06T23:19:26.495Z"
   },
   {
    "duration": 7,
    "start_time": "2025-02-06T23:19:26.501Z"
   },
   {
    "duration": 63,
    "start_time": "2025-02-06T23:19:26.510Z"
   },
   {
    "duration": 18,
    "start_time": "2025-02-06T23:19:26.575Z"
   },
   {
    "duration": 15,
    "start_time": "2025-02-06T23:19:26.594Z"
   },
   {
    "duration": 65,
    "start_time": "2025-02-06T23:19:26.611Z"
   },
   {
    "duration": 15,
    "start_time": "2025-02-06T23:19:26.680Z"
   },
   {
    "duration": 19,
    "start_time": "2025-02-06T23:19:26.697Z"
   },
   {
    "duration": 56,
    "start_time": "2025-02-06T23:19:26.717Z"
   },
   {
    "duration": 13,
    "start_time": "2025-02-06T23:19:26.775Z"
   },
   {
    "duration": 14,
    "start_time": "2025-02-06T23:19:26.790Z"
   },
   {
    "duration": 4,
    "start_time": "2025-02-06T23:19:26.806Z"
   },
   {
    "duration": 15,
    "start_time": "2025-02-06T23:19:26.812Z"
   },
   {
    "duration": 10,
    "start_time": "2025-02-06T23:19:26.872Z"
   },
   {
    "duration": 12,
    "start_time": "2025-02-06T23:19:26.884Z"
   },
   {
    "duration": 710,
    "start_time": "2025-02-06T23:19:26.898Z"
   },
   {
    "duration": 462,
    "start_time": "2025-02-06T23:19:27.610Z"
   },
   {
    "duration": 353,
    "start_time": "2025-02-06T23:19:28.074Z"
   },
   {
    "duration": 691,
    "start_time": "2025-02-06T23:19:28.429Z"
   },
   {
    "duration": 757,
    "start_time": "2025-02-06T23:19:29.121Z"
   },
   {
    "duration": 606,
    "start_time": "2025-02-06T23:19:29.880Z"
   },
   {
    "duration": 406,
    "start_time": "2025-02-06T23:19:30.487Z"
   },
   {
    "duration": 6,
    "start_time": "2025-02-06T23:19:30.895Z"
   },
   {
    "duration": 389,
    "start_time": "2025-02-06T23:19:30.902Z"
   },
   {
    "duration": 580,
    "start_time": "2025-02-06T23:19:31.293Z"
   },
   {
    "duration": 6,
    "start_time": "2025-02-06T23:19:31.875Z"
   },
   {
    "duration": 704,
    "start_time": "2025-02-06T23:19:31.883Z"
   },
   {
    "duration": 13,
    "start_time": "2025-02-06T23:19:32.589Z"
   },
   {
    "duration": 71,
    "start_time": "2025-02-06T23:19:32.604Z"
   },
   {
    "duration": 34,
    "start_time": "2025-02-06T23:19:32.677Z"
   },
   {
    "duration": 16,
    "start_time": "2025-02-06T23:19:32.773Z"
   },
   {
    "duration": 1285,
    "start_time": "2025-02-07T07:41:08.368Z"
   },
   {
    "duration": 67,
    "start_time": "2025-02-07T07:41:09.655Z"
   },
   {
    "duration": 23,
    "start_time": "2025-02-07T07:41:09.724Z"
   },
   {
    "duration": 10,
    "start_time": "2025-02-07T07:41:09.750Z"
   },
   {
    "duration": 8,
    "start_time": "2025-02-07T07:41:09.762Z"
   },
   {
    "duration": 23,
    "start_time": "2025-02-07T07:41:09.773Z"
   },
   {
    "duration": 20,
    "start_time": "2025-02-07T07:41:09.798Z"
   },
   {
    "duration": 5,
    "start_time": "2025-02-07T07:41:09.819Z"
   },
   {
    "duration": 17,
    "start_time": "2025-02-07T07:41:09.826Z"
   },
   {
    "duration": 17,
    "start_time": "2025-02-07T07:41:09.871Z"
   },
   {
    "duration": 26,
    "start_time": "2025-02-07T07:41:09.890Z"
   },
   {
    "duration": 26,
    "start_time": "2025-02-07T07:41:09.917Z"
   },
   {
    "duration": 11,
    "start_time": "2025-02-07T07:41:09.944Z"
   },
   {
    "duration": 19,
    "start_time": "2025-02-07T07:41:09.957Z"
   },
   {
    "duration": 26,
    "start_time": "2025-02-07T07:41:09.978Z"
   },
   {
    "duration": 6,
    "start_time": "2025-02-07T07:41:10.005Z"
   },
   {
    "duration": 30,
    "start_time": "2025-02-07T07:41:10.012Z"
   },
   {
    "duration": 33,
    "start_time": "2025-02-07T07:41:10.044Z"
   },
   {
    "duration": 17,
    "start_time": "2025-02-07T07:41:10.079Z"
   },
   {
    "duration": 5,
    "start_time": "2025-02-07T07:41:10.098Z"
   },
   {
    "duration": 10,
    "start_time": "2025-02-07T07:41:10.105Z"
   },
   {
    "duration": 11,
    "start_time": "2025-02-07T07:41:10.117Z"
   },
   {
    "duration": 331,
    "start_time": "2025-02-07T07:41:10.130Z"
   },
   {
    "duration": 356,
    "start_time": "2025-02-07T07:41:10.462Z"
   },
   {
    "duration": 290,
    "start_time": "2025-02-07T07:41:10.820Z"
   },
   {
    "duration": 326,
    "start_time": "2025-02-07T07:41:11.112Z"
   },
   {
    "duration": 295,
    "start_time": "2025-02-07T07:41:11.439Z"
   },
   {
    "duration": 450,
    "start_time": "2025-02-07T07:41:11.739Z"
   },
   {
    "duration": 213,
    "start_time": "2025-02-07T07:41:12.191Z"
   },
   {
    "duration": 5,
    "start_time": "2025-02-07T07:41:12.406Z"
   },
   {
    "duration": 200,
    "start_time": "2025-02-07T07:41:12.412Z"
   },
   {
    "duration": 311,
    "start_time": "2025-02-07T07:41:12.614Z"
   },
   {
    "duration": 5,
    "start_time": "2025-02-07T07:41:12.927Z"
   },
   {
    "duration": 310,
    "start_time": "2025-02-07T07:41:12.934Z"
   },
   {
    "duration": 11,
    "start_time": "2025-02-07T07:41:13.246Z"
   },
   {
    "duration": 17,
    "start_time": "2025-02-07T07:41:13.271Z"
   },
   {
    "duration": 37,
    "start_time": "2025-02-07T07:41:13.290Z"
   },
   {
    "duration": 49,
    "start_time": "2025-02-07T07:41:13.329Z"
   }
  ],
  "kernelspec": {
   "display_name": "Python 3 (ipykernel)",
   "language": "python",
   "name": "python3"
  },
  "language_info": {
   "codemirror_mode": {
    "name": "ipython",
    "version": 3
   },
   "file_extension": ".py",
   "mimetype": "text/x-python",
   "name": "python",
   "nbconvert_exporter": "python",
   "pygments_lexer": "ipython3",
   "version": "3.11.5"
  },
  "toc": {
   "base_numbering": 1,
   "nav_menu": {},
   "number_sections": true,
   "sideBar": true,
   "skip_h1_title": true,
   "title_cell": "Table of Contents",
   "title_sidebar": "Contents",
   "toc_cell": false,
   "toc_position": {},
   "toc_section_display": true,
   "toc_window_display": false
  }
 },
 "nbformat": 4,
 "nbformat_minor": 2
}
